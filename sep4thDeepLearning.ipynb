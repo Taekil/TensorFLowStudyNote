{
  "nbformat": 4,
  "nbformat_minor": 0,
  "metadata": {
    "colab": {
      "provenance": [],
      "authorship_tag": "ABX9TyPbI7EnODGLnH8m3HTNbFCE",
      "include_colab_link": true
    },
    "kernelspec": {
      "name": "python3",
      "display_name": "Python 3"
    },
    "language_info": {
      "name": "python"
    }
  },
  "cells": [
    {
      "cell_type": "markdown",
      "metadata": {
        "id": "view-in-github",
        "colab_type": "text"
      },
      "source": [
        "<a href=\"https://colab.research.google.com/github/Taekil/TensorFLowStudyNote/blob/master/sep4thDeepLearning.ipynb\" target=\"_parent\"><img src=\"https://colab.research.google.com/assets/colab-badge.svg\" alt=\"Open In Colab\"/></a>"
      ]
    },
    {
      "cell_type": "markdown",
      "source": [
        "이수안컴퓨터연구소 유투브 따라하기.\n",
        "https://www.youtube.com/watch?v=28QbrkRkHlo&t=88s"
      ],
      "metadata": {
        "id": "GPEfI8H25byE"
      }
    },
    {
      "cell_type": "markdown",
      "source": [
        "Tensor -> Rank, shape(ex: shape(3,3,3,3,3,3), Type(data type)\n",
        "\n",
        "0D tensor(scalar)\n",
        "1D"
      ],
      "metadata": {
        "id": "GSc8ksJQ6QN-"
      }
    },
    {
      "cell_type": "code",
      "execution_count": 5,
      "metadata": {
        "id": "KBam6ljY3ayD"
      },
      "outputs": [],
      "source": [
        "import tensorflow as tf\n",
        "import numpy as np\n"
      ]
    },
    {
      "cell_type": "markdown",
      "source": [
        "0D Tensor(Scalar) -> no axis and no shape"
      ],
      "metadata": {
        "id": "2X3VIoi27PUj"
      }
    },
    {
      "cell_type": "code",
      "source": [
        "t0 = tf.constant(1)\n",
        "print(t0)\n",
        "print(tf.rank(t0))"
      ],
      "metadata": {
        "colab": {
          "base_uri": "https://localhost:8080/"
        },
        "id": "E1qIv3gA7Up2",
        "outputId": "df126494-4753-4ed9-9130-c600bde578d0"
      },
      "execution_count": null,
      "outputs": [
        {
          "output_type": "stream",
          "name": "stdout",
          "text": [
            "tf.Tensor(1, shape=(), dtype=int32)\n",
            "tf.Tensor(0, shape=(), dtype=int32)\n"
          ]
        }
      ]
    },
    {
      "cell_type": "markdown",
      "source": [
        "1이라는 값을 가진 t0라는 tensor, print(t0)-> 1, and rank:0, so returns\n",
        "are 1, 0"
      ],
      "metadata": {
        "id": "q7kiL2M_7lqU"
      }
    },
    {
      "cell_type": "markdown",
      "source": [
        "1-D tensor"
      ],
      "metadata": {
        "id": "cxYk-8cv8Cqs"
      }
    },
    {
      "cell_type": "code",
      "source": [
        "t1 = tf.constant([1, 2, 3])\n",
        "print(t1)\n",
        "print(tf.rank(t1))"
      ],
      "metadata": {
        "colab": {
          "base_uri": "https://localhost:8080/"
        },
        "id": "1eHPlL_U8EfG",
        "outputId": "935392f4-d97a-4308-903a-874a4efd698f"
      },
      "execution_count": null,
      "outputs": [
        {
          "output_type": "stream",
          "name": "stdout",
          "text": [
            "tf.Tensor([1 2 3], shape=(3,), dtype=int32)\n",
            "tf.Tensor(1, shape=(), dtype=int32)\n"
          ]
        }
      ]
    },
    {
      "cell_type": "markdown",
      "source": [
        "t1-> 1-D tensor-> value is [1, 2, 3], shape is 3 elements\n",
        "the rank is 1"
      ],
      "metadata": {
        "id": "rqR5apCL8Nx8"
      }
    },
    {
      "cell_type": "markdown",
      "source": [
        "2-D tensor -> matrix\n",
        "general form -> samples and features.\n"
      ],
      "metadata": {
        "id": "QUf8uovs-Mhc"
      }
    },
    {
      "cell_type": "code",
      "source": [
        "t2 = tf.constant([[1, 2, 3],\n",
        "                  [4, 5, 6],\n",
        "                  [7, 8, 9]])\n",
        "print(t2)\n",
        "print(tf.rank(t2)) # rank is 2, there are row and column(ex: sample and feature)"
      ],
      "metadata": {
        "colab": {
          "base_uri": "https://localhost:8080/"
        },
        "id": "hgCrynQn-TAY",
        "outputId": "edd27839-5104-4901-ad36-b3003babf78c"
      },
      "execution_count": null,
      "outputs": [
        {
          "output_type": "stream",
          "name": "stdout",
          "text": [
            "tf.Tensor(\n",
            "[[1 2 3]\n",
            " [4 5 6]\n",
            " [7 8 9]], shape=(3, 3), dtype=int32)\n",
            "tf.Tensor(2, shape=(), dtype=int32)\n"
          ]
        }
      ]
    },
    {
      "cell_type": "markdown",
      "source": [
        "- 3-D tensor: cube, 3 axis, continous sequence data and time-flow data.\n",
        "- stock price data-set, and the desease-time data\n",
        "- samples, and timesteps, features."
      ],
      "metadata": {
        "id": "odMUcPAv-sMM"
      }
    },
    {
      "cell_type": "code",
      "source": [
        "# this is the 3X3X3 shape rank 3 3-D tensor\n",
        "t3 = tf.constant([[[1, 2, 3],[4, 5, 6],[7, 8, 9]],\n",
        "                  [[1, 2, 3],[4, 5, 6],[7, 8, 9]],\n",
        "                  [[1, 2, 3],[4, 5, 6],[7, 8, 9]]])\n",
        "\n",
        "print(t3) # shape=(3, 3, 3)\n",
        "print(tf.rank(t3)) # rank 3 (3 axies)"
      ],
      "metadata": {
        "colab": {
          "base_uri": "https://localhost:8080/"
        },
        "id": "yccAXUys_ZlW",
        "outputId": "6cc22dde-5ce5-4a76-f9c4-31504d48490f"
      },
      "execution_count": null,
      "outputs": [
        {
          "output_type": "stream",
          "name": "stdout",
          "text": [
            "tf.Tensor(\n",
            "[[[1 2 3]\n",
            "  [4 5 6]\n",
            "  [7 8 9]]\n",
            "\n",
            " [[1 2 3]\n",
            "  [4 5 6]\n",
            "  [7 8 9]]\n",
            "\n",
            " [[1 2 3]\n",
            "  [4 5 6]\n",
            "  [7 8 9]]], shape=(3, 3, 3), dtype=int32)\n",
            "tf.Tensor(3, shape=(), dtype=int32)\n"
          ]
        }
      ]
    },
    {
      "cell_type": "markdown",
      "source": [
        "- 4-D tensor -> color image (black-white image-> 3-D tensor possible)\n",
        "- samples, hieght, width, channel(for color, RGB)\n"
      ],
      "metadata": {
        "id": "Sj36B8B1QIG8"
      }
    },
    {
      "cell_type": "markdown",
      "source": [
        "5-D tensor -> video data -> samples, frames, height, width, channel."
      ],
      "metadata": {
        "id": "iti0ZTaWQgFC"
      }
    },
    {
      "cell_type": "markdown",
      "source": [
        "* Tensor Data Type(dtype)\n",
        "  - int32\n",
        "  - float32\n",
        "  - string\n",
        "  - etc(float16, int8 ....)\n",
        "  - all tensor dTypes all same for operating.\n",
        "  - tf.cast() -> for dType transfer.\n"
      ],
      "metadata": {
        "id": "8TJTUMZjRnxJ"
      }
    },
    {
      "cell_type": "code",
      "source": [
        "# type stransfer\n",
        "i = tf.constant(2)\n",
        "print(i)"
      ],
      "metadata": {
        "colab": {
          "base_uri": "https://localhost:8080/"
        },
        "id": "be0z27P_SDQA",
        "outputId": "5397d49a-6cad-48d1-f240-bdcc7ec87a7e"
      },
      "execution_count": null,
      "outputs": [
        {
          "output_type": "stream",
          "name": "stdout",
          "text": [
            "tf.Tensor(2, shape=(), dtype=int32)\n"
          ]
        }
      ]
    },
    {
      "cell_type": "code",
      "source": [
        "f = tf.constant(2.)\n",
        "print(f)"
      ],
      "metadata": {
        "colab": {
          "base_uri": "https://localhost:8080/"
        },
        "id": "6mH23IohSDow",
        "outputId": "fbff83f7-816a-47ff-d4a6-4e4bb48a27c3"
      },
      "execution_count": null,
      "outputs": [
        {
          "output_type": "stream",
          "name": "stdout",
          "text": [
            "tf.Tensor(2.0, shape=(), dtype=float32)\n"
          ]
        }
      ]
    },
    {
      "cell_type": "code",
      "source": [
        "s = tf.constant('Suan')\n",
        "print(s)"
      ],
      "metadata": {
        "colab": {
          "base_uri": "https://localhost:8080/"
        },
        "id": "zTPhtHuvSD7A",
        "outputId": "fbafe7f2-3298-411c-be79-fde5197d1fb7"
      },
      "execution_count": null,
      "outputs": [
        {
          "output_type": "stream",
          "name": "stdout",
          "text": [
            "tf.Tensor(b'Suan', shape=(), dtype=string)\n"
          ]
        }
      ]
    },
    {
      "cell_type": "code",
      "source": [
        "f16 = tf.constant(2.0, dtype=tf.float16)\n",
        "print(f16)"
      ],
      "metadata": {
        "colab": {
          "base_uri": "https://localhost:8080/"
        },
        "id": "GOOTQlPgSU-Z",
        "outputId": "de796e43-bb51-4de8-ca78-e9b3389e8820"
      },
      "execution_count": null,
      "outputs": [
        {
          "output_type": "stream",
          "name": "stdout",
          "text": [
            "tf.Tensor(2.0, shape=(), dtype=float16)\n"
          ]
        }
      ]
    },
    {
      "cell_type": "code",
      "source": [
        "i8 = tf.constant(2, dtype=tf.int8)\n",
        "print(i8)"
      ],
      "metadata": {
        "colab": {
          "base_uri": "https://localhost:8080/"
        },
        "id": "m2gJPGujSU1f",
        "outputId": "2d56de5a-08a4-48ed-cb60-b255ef566f2a"
      },
      "execution_count": null,
      "outputs": [
        {
          "output_type": "stream",
          "name": "stdout",
          "text": [
            "tf.Tensor(2, shape=(), dtype=int8)\n"
          ]
        }
      ]
    },
    {
      "cell_type": "code",
      "source": [
        "f32 = tf.cast(f16, tf.float32) # transfering f16 to f32 (dtype tranferring, tf.cast)\n",
        "print(f32)\n"
      ],
      "metadata": {
        "colab": {
          "base_uri": "https://localhost:8080/"
        },
        "id": "ZmITJppLTLl5",
        "outputId": "41836a8f-caac-4859-b467-76503dcc9306"
      },
      "execution_count": null,
      "outputs": [
        {
          "output_type": "stream",
          "name": "stdout",
          "text": [
            "tf.Tensor(2.0, shape=(), dtype=float32)\n"
          ]
        }
      ]
    },
    {
      "cell_type": "code",
      "source": [
        "i32 = tf.cast(i8, tf.int32)\n",
        "print(i32)"
      ],
      "metadata": {
        "colab": {
          "base_uri": "https://localhost:8080/"
        },
        "id": "Q8yLtjbJTe7s",
        "outputId": "b6981ace-695e-4ff5-dfb8-632cc42a9355"
      },
      "execution_count": null,
      "outputs": [
        {
          "output_type": "stream",
          "name": "stdout",
          "text": [
            "tf.Tensor(2, shape=(), dtype=int32)\n"
          ]
        }
      ]
    },
    {
      "cell_type": "markdown",
      "source": [
        "* Tensor Calculation."
      ],
      "metadata": {
        "id": "SQqyQSgyTmts"
      }
    },
    {
      "cell_type": "code",
      "source": [
        "print(tf.constant(2) + tf.constant(2))\n",
        "print(tf.constant(2) - tf.constant(2))\n",
        "print(tf.add(tf.constant(2), tf.constant(2)))\n",
        "print(tf.subtract(tf.constant(2), tf.constant(2)))"
      ],
      "metadata": {
        "colab": {
          "base_uri": "https://localhost:8080/"
        },
        "id": "KWEqd4LGTmgJ",
        "outputId": "33d0d9b0-f28f-4567-edff-3050fbe71e8d"
      },
      "execution_count": null,
      "outputs": [
        {
          "output_type": "stream",
          "name": "stdout",
          "text": [
            "tf.Tensor(4, shape=(), dtype=int32)\n",
            "tf.Tensor(0, shape=(), dtype=int32)\n",
            "tf.Tensor(4, shape=(), dtype=int32)\n",
            "tf.Tensor(0, shape=(), dtype=int32)\n"
          ]
        }
      ]
    },
    {
      "cell_type": "code",
      "source": [
        "print(tf.constant(2) * tf.constant(2))\n",
        "print(tf.constant(2) / tf.constant(2))\n",
        "print(tf.multiply(tf.constant(2), tf.constant(2)))\n",
        "print(tf.divide(tf.constant(2), tf.constant(2)))"
      ],
      "metadata": {
        "colab": {
          "base_uri": "https://localhost:8080/"
        },
        "id": "WCG2cs_zTrpY",
        "outputId": "9e2687c6-f301-4088-b129-c38912d8956b"
      },
      "execution_count": null,
      "outputs": [
        {
          "output_type": "stream",
          "name": "stdout",
          "text": [
            "tf.Tensor(4, shape=(), dtype=int32)\n",
            "tf.Tensor(1.0, shape=(), dtype=float64)\n",
            "tf.Tensor(4, shape=(), dtype=int32)\n",
            "tf.Tensor(1.0, shape=(), dtype=float64)\n"
          ]
        }
      ]
    },
    {
      "cell_type": "code",
      "source": [
        "# int + float\n",
        "# in tensorflow -> not possible operating the calculation.\n",
        "# the dtypes have to be same not like other programming languages.\n",
        "# print(tf.constant(2) + tf.constant(2.2))\n",
        "print(tf.cast(tf.constant(2), tf.float32) + tf.constant(2.2)) # this is working -> cast int into float."
      ],
      "metadata": {
        "colab": {
          "base_uri": "https://localhost:8080/"
        },
        "id": "7jnlOBr5TreZ",
        "outputId": "9921a403-5c63-4942-de95-ce5dea3e7e0d"
      },
      "execution_count": null,
      "outputs": [
        {
          "output_type": "stream",
          "name": "stdout",
          "text": [
            "tf.Tensor(4.2, shape=(), dtype=float32)\n"
          ]
        }
      ]
    },
    {
      "cell_type": "markdown",
      "source": [
        "  * The Sructure of DL(Deep-Learning) and the Learning Process\n",
        "    * Elements\n",
        "      - Model(network) -> layer\n",
        "      - input(I/P) and Output(O/P)\n",
        "      - Loss Function\n",
        "      - Optimizer (process method) -> reward system?\n",
        "     "
      ],
      "metadata": {
        "id": "5kv9RtwwTrNT"
      }
    },
    {
      "cell_type": "markdown",
      "source": [
        "* Layer -> the core data structure\n",
        "* input tensor >= 1 -> output tensor >= 1\n",
        "* weight -> there will be no status layer, but most layer has expression to show the status, it is \"weight\"\n",
        "* weight is (possibility regression?) 확률적 경사 하강법(stochastic gradient Descent)(SGD)에 의해 학습되는\n",
        "하나 이상의 텐서.\n",
        "\n",
        "* what kind of optimization mehtods?\n",
        "  -> https://gooopy.tistory.com/69\n",
        "  -> Batch Gradient Descent, BGD\n",
        "    -> Target and batch size are same -> everything into batch!\n",
        "    -> but Lcal Optima(minimum) problem.\n",
        "    -> big data set -> time resources are wasted.\n",
        "  \n",
        "  -> Stochastic Gradient Descent, SGD\n",
        "  -> Random sample data set -> only calculating the sample's gradient\n",
        "  -> learning Speed is high because small data numbers.\n",
        "  -> less-memory.\n",
        "  -> but not stable than BGD\n",
        "  -> not getting global minimum (but, closed value)\n",
        "  -> SDG -> fast and less-memory -> randomly-movement -> not easy to\n",
        "  get global minimum.\n",
        "  -> so, we have mini-batch gradient Descent.\n",
        "\n",
        "  Learning Rate Schedule ->\n",
        "\n",
        "  mini-batch Gradient Descent\n",
        "  -> smaller batch and using Stochastic Gradient Descent.\n",
        "  -> using 1000EA batch: 100, mini batch:10\n",
        "  -> SGD with mini-batch -> 10SGD/1epoch\n",
        "  -> SGD is Mini-Batch (typically)\n",
        "\n",
        "\n",
        "* Keras -> major layers -> DENSE, ACTIVATION, FLATTEN, INPUT."
      ],
      "metadata": {
        "id": "fuT536oZWWiu"
      }
    },
    {
      "cell_type": "code",
      "source": [
        "from tensorflow.keras.layers import Dense, Activation, Flatten, Input"
      ],
      "metadata": {
        "id": "j-Yfo0qEekxT"
      },
      "execution_count": null,
      "outputs": []
    },
    {
      "cell_type": "markdown",
      "source": [
        "33:11 DENSE - 완전 연결계층 -> fully-Connected layer.\n",
        "노드가 존재했을 때 모든 노드가 서로 완전하게 연결되어 있는 경우.\n",
        "노드의 수\n",
        "activation function 지정가능.\n",
        "name을 통해서 레이어 구분 가능.\n",
        "kernel_initilizer(가중치 초기화)-> 가중치의 초기값은 신경망의 성능에 큰 영향을 줌.\n",
        "-> 보통 가중치의 초기값으로 0에 가까운 무작위 값을 사용. -> 초기값이 다를 경우, 성능차이발생.\n",
        "-> 오차역전파 알고리즘 -> 경사하강법 -> 지역해에 빠질 가능성이 있음.\n",
        "\n"
      ],
      "metadata": {
        "id": "x-OSO4PsjPUM"
      }
    },
    {
      "cell_type": "code",
      "source": [
        "Dense(10, activation= 'softmax') # numbers of units(nodes)"
      ],
      "metadata": {
        "colab": {
          "base_uri": "https://localhost:8080/"
        },
        "id": "eA7D3Arof9Im",
        "outputId": "d873e174-981d-4b18-df3f-3c665e7b26fb"
      },
      "execution_count": null,
      "outputs": [
        {
          "output_type": "execute_result",
          "data": {
            "text/plain": [
              "<keras.layers.core.dense.Dense at 0x7cfb08c7fa60>"
            ]
          },
          "metadata": {},
          "execution_count": 3
        }
      ]
    },
    {
      "cell_type": "code",
      "source": [
        "Dense(10, activation= 'relu', name = 'Dense Layer')"
      ],
      "metadata": {
        "colab": {
          "base_uri": "https://localhost:8080/"
        },
        "id": "oy23K8x6gPQ5",
        "outputId": "7de6f83c-cb2f-4397-aabd-095ee7b303dc"
      },
      "execution_count": null,
      "outputs": [
        {
          "output_type": "execute_result",
          "data": {
            "text/plain": [
              "<keras.layers.core.dense.Dense at 0x7cfb07fdbeb0>"
            ]
          },
          "metadata": {},
          "execution_count": 5
        }
      ]
    },
    {
      "cell_type": "code",
      "source": [
        "Dense(10, kernel_initializer='he_normal', name='Dense Layer')"
      ],
      "metadata": {
        "colab": {
          "base_uri": "https://localhost:8080/"
        },
        "id": "KOyW4oQPgaJB",
        "outputId": "eed0f03e-31d8-47be-c7c6-523e7d85a471"
      },
      "execution_count": null,
      "outputs": [
        {
          "output_type": "execute_result",
          "data": {
            "text/plain": [
              "<keras.layers.core.dense.Dense at 0x7cfb080f2e60>"
            ]
          },
          "metadata": {},
          "execution_count": 6
        }
      ]
    },
    {
      "cell_type": "markdown",
      "source": [
        "ACTIVATION-> dense layer에서 밀 활성화된 함수를 지정가능,\n",
        "하지만, 필요에 따라 별도의 레이어를 만들어줄 수 있음.\n"
      ],
      "metadata": {
        "id": "lQB0V3UWgjHw"
      }
    },
    {
      "cell_type": "code",
      "source": [
        "dense = Dense(10, activation='relu', name='Dense Layer')\n",
        "Activation(dense)"
      ],
      "metadata": {
        "colab": {
          "base_uri": "https://localhost:8080/"
        },
        "id": "DLdPMohxheXJ",
        "outputId": "496899af-bd24-48cd-a789-36ad4cec2936"
      },
      "execution_count": null,
      "outputs": [
        {
          "output_type": "execute_result",
          "data": {
            "text/plain": [
              "<keras.layers.core.activation.Activation at 0x798b13315870>"
            ]
          },
          "metadata": {},
          "execution_count": 3
        }
      ]
    },
    {
      "cell_type": "markdown",
      "source": [
        "Flatten -> 배치 크기(또는 데이터 크기)를 제외하고 데이터를 1차원으로 쭉 펼치는 작업.\n",
        "128, 3, 2, 2 -> 128, 12"
      ],
      "metadata": {
        "id": "MvT8sKhhhv5D"
      }
    },
    {
      "cell_type": "code",
      "source": [
        "Flatten(input_shape=(128, 3, 2, 2))"
      ],
      "metadata": {
        "colab": {
          "base_uri": "https://localhost:8080/"
        },
        "id": "12DWVV0Th_Pt",
        "outputId": "1a53e84d-15a0-4cc5-e7f9-f291e9b2aecc"
      },
      "execution_count": null,
      "outputs": [
        {
          "output_type": "execute_result",
          "data": {
            "text/plain": [
              "<keras.layers.reshaping.flatten.Flatten at 0x798af62ce4d0>"
            ]
          },
          "metadata": {},
          "execution_count": 4
        }
      ]
    },
    {
      "cell_type": "markdown",
      "source": [
        "input: 모델의 입력을 정의, shape과 dtype, 여러개의 입력을 가질 수 있음.\n",
        "summary() 메소드를 통해서는 보이지 않음.\n"
      ],
      "metadata": {
        "id": "odY-bfTCiIuQ"
      }
    },
    {
      "cell_type": "code",
      "source": [
        "Input(shape=(28, 28), dtype=tf.float32)"
      ],
      "metadata": {
        "colab": {
          "base_uri": "https://localhost:8080/"
        },
        "id": "AkOf_12ViWEK",
        "outputId": "2bf4974f-cd7b-4c4f-c8b3-9455c50a240c"
      },
      "execution_count": null,
      "outputs": [
        {
          "output_type": "execute_result",
          "data": {
            "text/plain": [
              "<KerasTensor: shape=(None, 28, 28) dtype=float32 (created by layer 'input_1')>"
            ]
          },
          "metadata": {},
          "execution_count": 8
        }
      ]
    },
    {
      "cell_type": "code",
      "source": [
        "Input(shape=(8,), dtype=tf.int32)"
      ],
      "metadata": {
        "colab": {
          "base_uri": "https://localhost:8080/"
        },
        "id": "KdC1HLRbinHC",
        "outputId": "2950ff65-022a-4369-d1f8-7eeef97c97dd"
      },
      "execution_count": null,
      "outputs": [
        {
          "output_type": "execute_result",
          "data": {
            "text/plain": [
              "<KerasTensor: shape=(None, 8) dtype=int32 (created by layer 'input_2')>"
            ]
          },
          "metadata": {},
          "execution_count": 9
        }
      ]
    },
    {
      "cell_type": "markdown",
      "source": [
        "모델은 레이어로 만들어진다, 딥러닝 모델은 레이어로 만들어진 비순환 유향 그래프\n",
        "(Directed Acyclic Graph, DAG) 구조.\n",
        "\n",
        "모델을 구성하는 방법 -> sequential(), subclassing, 함수형 API.\n",
        "\n",
        "Sequential() -> 순차적인 구조로 진행할 때 사용하는 방법.\n",
        "-> creation of Sequential object, then add()\n",
        "-> Sequential 인자에 한번에 추가하는 방법.\n",
        "-> 다중입력 및 출력 안됨. -> 복잡한 모델을 구성할 수 없음.\n",
        "\n",
        "\n"
      ],
      "metadata": {
        "id": "G86ZDDPDi2FW"
      }
    },
    {
      "cell_type": "code",
      "source": [
        "from tensorflow.keras.layers import Dense, Input, Flatten\n",
        "from tensorflow.keras.models import Sequential, Model\n",
        "from tensorflow.keras.utils import plot_model"
      ],
      "metadata": {
        "id": "XXSp0QLJr2GH"
      },
      "execution_count": 6,
      "outputs": []
    },
    {
      "cell_type": "code",
      "source": [
        "model = Sequential()\n",
        "model.add(Input(shape=(28, 28)))\n",
        "model.add(Dense(300, activation='relu'))\n",
        "model.add(Dense(100, activation='relu'))\n",
        "model.add(Dense(10, activation='softmax'))\n",
        "model.summary()"
      ],
      "metadata": {
        "colab": {
          "base_uri": "https://localhost:8080/"
        },
        "id": "EncFxg4Nr3XJ",
        "outputId": "14b488d2-e3c5-43c6-9dfa-8f0ec7d49b0b"
      },
      "execution_count": null,
      "outputs": [
        {
          "output_type": "stream",
          "name": "stdout",
          "text": [
            "Model: \"sequential_2\"\n",
            "_________________________________________________________________\n",
            " Layer (type)                Output Shape              Param #   \n",
            "=================================================================\n",
            " dense (Dense)               (None, 28, 300)           8700      \n",
            "                                                                 \n",
            " dense_1 (Dense)             (None, 28, 100)           30100     \n",
            "                                                                 \n",
            " dense_2 (Dense)             (None, 28, 10)            1010      \n",
            "                                                                 \n",
            "=================================================================\n",
            "Total params: 39,810\n",
            "Trainable params: 39,810\n",
            "Non-trainable params: 0\n",
            "_________________________________________________________________\n"
          ]
        }
      ]
    },
    {
      "cell_type": "code",
      "source": [
        "plot_model(model)"
      ],
      "metadata": {
        "colab": {
          "base_uri": "https://localhost:8080/",
          "height": 369
        },
        "id": "dCR1y4c7r3LD",
        "outputId": "5e8e97cd-689a-4550-97c6-e89598d51684"
      },
      "execution_count": null,
      "outputs": [
        {
          "output_type": "execute_result",
          "data": {
            "image/png": "[encoded data removed]",
            "text/plain": [
              "<IPython.core.display.Image object>"
            ]
          },
          "metadata": {},
          "execution_count": 15
        }
      ]
    },
    {
      "cell_type": "code",
      "source": [
        "model= Sequential([Input(shape=(28, 28), name='Input'),\n",
        "                   Dense(300, activation='relu', name='Dense1'),\n",
        "                   Dense(100, activation='relu', name='Dense2'),\n",
        "                   Dense(10, activation='softmax', name='Output')\n",
        "                  ])\n",
        "model.summary()"
      ],
      "metadata": {
        "colab": {
          "base_uri": "https://localhost:8080/"
        },
        "id": "IirQl6o_r21F",
        "outputId": "546a8fb3-ed6c-4ce1-b3d3-0d3b057f9b11"
      },
      "execution_count": null,
      "outputs": [
        {
          "output_type": "stream",
          "name": "stdout",
          "text": [
            "Model: \"sequential_3\"\n",
            "_________________________________________________________________\n",
            " Layer (type)                Output Shape              Param #   \n",
            "=================================================================\n",
            " Dense1 (Dense)              (None, 28, 300)           8700      \n",
            "                                                                 \n",
            " Dense2 (Dense)              (None, 28, 100)           30100     \n",
            "                                                                 \n",
            " Output (Dense)              (None, 28, 10)            1010      \n",
            "                                                                 \n",
            "=================================================================\n",
            "Total params: 39,810\n",
            "Trainable params: 39,810\n",
            "Non-trainable params: 0\n",
            "_________________________________________________________________\n"
          ]
        }
      ]
    },
    {
      "cell_type": "code",
      "source": [
        "plot_model(model)"
      ],
      "metadata": {
        "colab": {
          "base_uri": "https://localhost:8080/",
          "height": 369
        },
        "id": "NJs67q0Kr2of",
        "outputId": "7c422357-b31d-4025-f062-8ce8d6c93777"
      },
      "execution_count": null,
      "outputs": [
        {
          "output_type": "execute_result",
          "data": {
            "image/png": "[encoded data removed]",
            "text/plain": [
              "<IPython.core.display.Image object>"
            ]
          },
          "metadata": {},
          "execution_count": 17
        }
      ]
    },
    {
      "cell_type": "markdown",
      "source": [
        "함수형 API 가장 권장되는 방법, 복잡하고 유연하게 구성 가능, 다중 입축력 가능.\n",
        "\n"
      ],
      "metadata": {
        "id": "K2BhpGSzr33R"
      }
    },
    {
      "cell_type": "code",
      "source": [
        "inputs = Input(shape=(28, 28, 1))\n",
        "x = Flatten(input_shape=(28, 28, 1))(inputs)\n",
        "x = Dense(300, activation='relu')(x)\n",
        "x = Dense(100, activation='relu')(x)\n",
        "x = Dense(10, activation='softmax')(x)\n",
        "\n",
        "model = Model(inputs=inputs, outputs=x)\n",
        "model.summary()"
      ],
      "metadata": {
        "colab": {
          "base_uri": "https://localhost:8080/"
        },
        "id": "ElFiDYN8vXso",
        "outputId": "6cec6475-ebd8-451b-d4c8-f1dd70391724"
      },
      "execution_count": null,
      "outputs": [
        {
          "output_type": "stream",
          "name": "stdout",
          "text": [
            "Model: \"model\"\n",
            "_________________________________________________________________\n",
            " Layer (type)                Output Shape              Param #   \n",
            "=================================================================\n",
            " input_4 (InputLayer)        [(None, 28, 28, 1)]       0         \n",
            "                                                                 \n",
            " flatten_1 (Flatten)         (None, 784)               0         \n",
            "                                                                 \n",
            " dense_3 (Dense)             (None, 300)               235500    \n",
            "                                                                 \n",
            " dense_4 (Dense)             (None, 100)               30100     \n",
            "                                                                 \n",
            " dense_5 (Dense)             (None, 10)                1010      \n",
            "                                                                 \n",
            "=================================================================\n",
            "Total params: 266,610\n",
            "Trainable params: 266,610\n",
            "Non-trainable params: 0\n",
            "_________________________________________________________________\n"
          ]
        }
      ]
    },
    {
      "cell_type": "code",
      "source": [
        "plot_model(model)"
      ],
      "metadata": {
        "colab": {
          "base_uri": "https://localhost:8080/",
          "height": 466
        },
        "id": "1GpuqTQJ0m-l",
        "outputId": "2c734964-de4f-4c93-f53e-1b930af1fcf0"
      },
      "execution_count": null,
      "outputs": [
        {
          "output_type": "execute_result",
          "data": {
            "image/png": "[encoded data removed]",
            "text/plain": [
              "<IPython.core.display.Image object>"
            ]
          },
          "metadata": {},
          "execution_count": 20
        }
      ]
    },
    {
      "cell_type": "code",
      "source": [
        "# 함수형 API 장점\n",
        "from tensorflow.keras.layers import Concatenate\n",
        "\n",
        "input_layer = Input(shape=(28, 28))\n",
        "hidden1 = Dense(100, activation='relu')(input_layer)\n",
        "hidden2 = Dense(30, activation='relu')(hidden1)\n",
        "concat = Concatenate(axis=-1)([input_layer, hidden2]) #Create a new layer taking outputs of input_layer and hidden2\n",
        "# and concatenates them along a specified axis.\n",
        "output = Dense(1)(concat)\n",
        "\n",
        "model = Model(inputs=[input_layer], outputs=[output])\n",
        "model.summary()\n"
      ],
      "metadata": {
        "colab": {
          "base_uri": "https://localhost:8080/"
        },
        "id": "Ers9_Hag0tdT",
        "outputId": "5a8c30f9-6763-4640-f113-bebd3d3f6ef0"
      },
      "execution_count": 10,
      "outputs": [
        {
          "output_type": "stream",
          "name": "stdout",
          "text": [
            "Model: \"model\"\n",
            "__________________________________________________________________________________________________\n",
            " Layer (type)                Output Shape                 Param #   Connected to                  \n",
            "==================================================================================================\n",
            " input_1 (InputLayer)        [(None, 28, 28)]             0         []                            \n",
            "                                                                                                  \n",
            " dense (Dense)               (None, 28, 100)              2900      ['input_1[0][0]']             \n",
            "                                                                                                  \n",
            " dense_1 (Dense)             (None, 28, 30)               3030      ['dense[0][0]']               \n",
            "                                                                                                  \n",
            " concatenate (Concatenate)   (None, 28, 58)               0         ['input_1[0][0]',             \n",
            "                                                                     'dense_1[0][0]']             \n",
            "                                                                                                  \n",
            " dense_2 (Dense)             (None, 28, 1)                59        ['concatenate[0][0]']         \n",
            "                                                                                                  \n",
            "==================================================================================================\n",
            "Total params: 5989 (23.39 KB)\n",
            "Trainable params: 5989 (23.39 KB)\n",
            "Non-trainable params: 0 (0.00 Byte)\n",
            "__________________________________________________________________________________________________\n"
          ]
        }
      ]
    },
    {
      "cell_type": "code",
      "source": [
        "plot_model(model)"
      ],
      "metadata": {
        "colab": {
          "base_uri": "https://localhost:8080/",
          "height": 466
        },
        "id": "meRnn_CL34R2",
        "outputId": "0f8900d8-d24f-4213-b84a-6bf64adb0819"
      },
      "execution_count": 11,
      "outputs": [
        {
          "output_type": "execute_result",
          "data": {
            "image/png": "[encoded data removed]",
            "text/plain": [
              "<IPython.core.display.Image object>"
            ]
          },
          "metadata": {},
          "execution_count": 11
        }
      ]
    },
    {
      "cell_type": "markdown",
      "source": [
        "Dense Layer: fully connected layer -> fundamental type of layer\n",
        "that connects each neuron(or unit) in the layer to every neuron in the previous layer.\n",
        "\n",
        "Dense Layer: Dense connections between neurons.\n",
        "other layer types like convolutional layers have sparse connections.\n",
        "mathematically, a dense layer computes a weighted sum of its input, adds a bias term, and then applies an activation function to produce an output.\n",
        "\n",
        "unit or nueron: neuron or node, building block of a neural network.\n",
        "\n",
        "define a dense layer with a certain number of units, it means\n",
        "creating many neurons(units) in the layer, and each neuron si connected to all neurons in the previous layers."
      ],
      "metadata": {
        "id": "lFeKvg9b51a6"
      }
    },
    {
      "cell_type": "code",
      "source": [
        "# two input layers defined, specifying the shape of the input data for neural network\n",
        "input_1 = Input(shape=(10, 10), name='input_1') # expected input data with a shape of 10 rows and 10 columns\n",
        "input_2 = Input(shape=(10, 28), name='input_2') # 10 rows and 28 columns\n",
        "\n",
        "# hidden layers\n",
        "hidden1 = Dense(100, activation='relu')(input_2)\n",
        "# hidden1, dense layer with 100 units and relu activation.\n",
        "# it takes input_2 as its inputs.\n",
        "hidden2 = Dense(10, activation='relu')(hidden1)\n",
        "concat = Concatenate()([input_1, hidden2]) # output if input_1 and hidden2 as inputs\n",
        "# and concatenates them along axis(axis=-1), stacking horizontally.\n",
        "output = Dense(1, activation='sigmoid', name='output')(concat)\n",
        "\n",
        "model = Model(inputs=[input_1, input_2], outputs=[output])\n",
        "model.summary()"
      ],
      "metadata": {
        "colab": {
          "base_uri": "https://localhost:8080/"
        },
        "id": "8fiI1Raa3-y-",
        "outputId": "d448aeee-3f59-4b49-f514-7bf9b4b8b256"
      },
      "execution_count": null,
      "outputs": [
        {
          "output_type": "stream",
          "name": "stdout",
          "text": [
            "Model: \"model_3\"\n",
            "__________________________________________________________________________________________________\n",
            " Layer (type)                   Output Shape         Param #     Connected to                     \n",
            "==================================================================================================\n",
            " input_2 (InputLayer)           [(None, 10, 28)]     0           []                               \n",
            "                                                                                                  \n",
            " dense_21 (Dense)               (None, 10, 100)      2900        ['input_2[0][0]']                \n",
            "                                                                                                  \n",
            " input_1 (InputLayer)           [(None, 10, 10)]     0           []                               \n",
            "                                                                                                  \n",
            " dense_22 (Dense)               (None, 10, 10)       1010        ['dense_21[0][0]']               \n",
            "                                                                                                  \n",
            " concatenate_5 (Concatenate)    (None, 10, 20)       0           ['input_1[0][0]',                \n",
            "                                                                  'dense_22[0][0]']               \n",
            "                                                                                                  \n",
            " output (Dense)                 (None, 10, 1)        21          ['concatenate_5[0][0]']          \n",
            "                                                                                                  \n",
            "==================================================================================================\n",
            "Total params: 3,931\n",
            "Trainable params: 3,931\n",
            "Non-trainable params: 0\n",
            "__________________________________________________________________________________________________\n"
          ]
        }
      ]
    },
    {
      "cell_type": "markdown",
      "source": [
        "55:03"
      ],
      "metadata": {
        "id": "8TFC4AeU7v5S"
      }
    },
    {
      "cell_type": "code",
      "source": [
        "plot_model(model)"
      ],
      "metadata": {
        "colab": {
          "base_uri": "https://localhost:8080/",
          "height": 466
        },
        "id": "o_1mf6x971Fn",
        "outputId": "a02c833c-4dc4-438d-cc90-ea273f7ed026"
      },
      "execution_count": null,
      "outputs": [
        {
          "output_type": "execute_result",
          "data": {
            "image/png": "[encoded data removed]",
            "text/plain": [
              "<IPython.core.display.Image object>"
            ]
          },
          "metadata": {},
          "execution_count": 31
        }
      ]
    },
    {
      "cell_type": "code",
      "source": [
        "# many output.\n",
        "input_ = Input(shape=(10, 10), name='input_')\n",
        "hidden1 = Dense(100, activation='relu')(input_)\n",
        "hidden2 = Dense(10, activation='relu')(hidden1)\n",
        "output = Dense(1, activation='sigmoid', name='main_output')(hidden2)\n",
        "sub_out = Dense(1, name='sum_output')(hidden2)\n",
        "\n",
        "model = Model(inputs=[input_], outputs=[output, sub_out])\n",
        "model.summary()\n"
      ],
      "metadata": {
        "id": "GCCXcEUK77R_",
        "colab": {
          "base_uri": "https://localhost:8080/"
        },
        "outputId": "3851d835-2888-4fa3-ba98-0a78462d62ae"
      },
      "execution_count": null,
      "outputs": [
        {
          "output_type": "stream",
          "name": "stdout",
          "text": [
            "Model: \"model\"\n",
            "__________________________________________________________________________________________________\n",
            " Layer (type)                   Output Shape         Param #     Connected to                     \n",
            "==================================================================================================\n",
            " input_ (InputLayer)            [(None, 10, 10)]     0           []                               \n",
            "                                                                                                  \n",
            " dense (Dense)                  (None, 10, 100)      1100        ['input_[0][0]']                 \n",
            "                                                                                                  \n",
            " dense_1 (Dense)                (None, 10, 10)       1010        ['dense[0][0]']                  \n",
            "                                                                                                  \n",
            " main_output (Dense)            (None, 10, 1)        11          ['dense_1[0][0]']                \n",
            "                                                                                                  \n",
            " sum_output (Dense)             (None, 10, 1)        11          ['dense_1[0][0]']                \n",
            "                                                                                                  \n",
            "==================================================================================================\n",
            "Total params: 2,132\n",
            "Trainable params: 2,132\n",
            "Non-trainable params: 0\n",
            "__________________________________________________________________________________________________\n"
          ]
        }
      ]
    },
    {
      "cell_type": "code",
      "source": [
        "plot_model(model)"
      ],
      "metadata": {
        "colab": {
          "base_uri": "https://localhost:8080/",
          "height": 369
        },
        "id": "CIbWgRE28632",
        "outputId": "b16c217b-9623-475e-ab16-7d8cc982a6b8"
      },
      "execution_count": null,
      "outputs": [
        {
          "output_type": "execute_result",
          "data": {
            "image/png": "[encoded data removed]",
            "text/plain": [
              "<IPython.core.display.Image object>"
            ]
          },
          "metadata": {},
          "execution_count": 7
        }
      ]
    },
    {
      "cell_type": "code",
      "source": [
        "from keras.api._v2.keras import activations\n",
        "input_1 = Input(shape=(10, 10), name = 'input_1')\n",
        "input_2 = Input(shape=(10, 28), name='input_2')\n",
        "hidden1 = Dense(100, activation='relu')(input_2)\n",
        "hidden2 = Dense(10, activation='relu')(hidden1)\n",
        "concat = Concatenate()([input_1, hidden2])\n",
        "output = Dense(1, activation='sigmoid', name='main_output')(concat)\n",
        "sub_out = Dense(1, name='sum_output')(hidden2)\n",
        "\n",
        "model = Model(inputs=[input_1, input_2], outputs=[output, sub_out])\n",
        "model.summary()\n",
        "\n"
      ],
      "metadata": {
        "colab": {
          "base_uri": "https://localhost:8080/"
        },
        "id": "P6VWaVI39I15",
        "outputId": "848252cf-eb80-4834-94df-ee5449704a65"
      },
      "execution_count": null,
      "outputs": [
        {
          "output_type": "stream",
          "name": "stdout",
          "text": [
            "Model: \"model_2\"\n",
            "__________________________________________________________________________________________________\n",
            " Layer (type)                   Output Shape         Param #     Connected to                     \n",
            "==================================================================================================\n",
            " input_2 (InputLayer)           [(None, 10, 28)]     0           []                               \n",
            "                                                                                                  \n",
            " dense_15 (Dense)               (None, 10, 100)      2900        ['input_2[0][0]']                \n",
            "                                                                                                  \n",
            " input_1 (InputLayer)           [(None, 10, 10)]     0           []                               \n",
            "                                                                                                  \n",
            " dense_16 (Dense)               (None, 10, 10)       1010        ['dense_15[0][0]']               \n",
            "                                                                                                  \n",
            " concatenate_2 (Concatenate)    (None, 10, 20)       0           ['input_1[0][0]',                \n",
            "                                                                  'dense_16[0][0]']               \n",
            "                                                                                                  \n",
            " main_output (Dense)            (None, 10, 1)        21          ['concatenate_2[0][0]']          \n",
            "                                                                                                  \n",
            " sum_output (Dense)             (None, 10, 1)        11          ['dense_16[0][0]']               \n",
            "                                                                                                  \n",
            "==================================================================================================\n",
            "Total params: 3,942\n",
            "Trainable params: 3,942\n",
            "Non-trainable params: 0\n",
            "__________________________________________________________________________________________________\n"
          ]
        }
      ]
    },
    {
      "cell_type": "code",
      "source": [
        "plot_model(model)"
      ],
      "metadata": {
        "colab": {
          "base_uri": "https://localhost:8080/",
          "height": 466
        },
        "id": "XOz_WRLX_MtL",
        "outputId": "18d70824-23a5-447f-d99b-9cc3712b6caa"
      },
      "execution_count": null,
      "outputs": [
        {
          "output_type": "execute_result",
          "data": {
            "image/png": "[encoded data removed]",
            "text/plain": [
              "<IPython.core.display.Image object>"
            ]
          },
          "metadata": {},
          "execution_count": 15
        }
      ]
    },
    {
      "cell_type": "markdown",
      "source": [
        "서브클래싱(SubClassing)\n",
        "  - 커스터마이징에 최적화된 방법\n",
        "  - 모델 클래스를 상속받아 모델이 포함하는 기능을 사용할 수 있음.\n",
        "  - fit(), evaluate(), predict()\n",
        "  - save(), load()\n",
        "  - 주로 call() 메소드안에서 원하는 계산 기능.\n",
        "    - for, if, 저수준 연산 등.\n",
        "  - 권장되는 방법은 아니지만, 어떤 모델의 구현 코드를 참고할 때, 해석가능해야 함.\n",
        "  "
      ],
      "metadata": {
        "id": "X3iHK6O0_TrG"
      }
    },
    {
      "cell_type": "code",
      "source": [
        "class MyModel(Model):\n",
        "  def __init(slef, unit=30, activation='relu', **kwargs):\n",
        "    super(MyModel, self).__init__(**kwargs)\n",
        "    self.dense_layer1 = Dense(300, activation=activation)\n",
        "    self.dense_layer2 = Dense(100, activation=activation)\n",
        "    self.dense_layer3 = Dense(units, activation=activation)\n",
        "    self.output_layer = Dense(10, activation='softmax')\n",
        "\n",
        "  def call(self, inputs):\n",
        "    x = self.dense_layer1(inputs)\n",
        "    x = self.dense_layer2(x)\n",
        "    x = self.dense_layer3(x)\n",
        "    x = self.output_layer(x)\n",
        "    return x"
      ],
      "metadata": {
        "id": "t2-hjMUW_5J-"
      },
      "execution_count": null,
      "outputs": []
    },
    {
      "cell_type": "markdown",
      "source": [
        "- 모델 가중치 확인하는 방법.\n"
      ],
      "metadata": {
        "id": "fiTBYS6L_57v"
      }
    },
    {
      "cell_type": "code",
      "source": [
        "inputs = Input(shape=(28, 28, 1))\n",
        "x = Flatten(input_shape=(28, 28, 1))(inputs)\n",
        "x = Dense(300, activation='relu')(x)\n",
        "x = Dense(100, activation='relu')(x)\n",
        "x = Dense(10, activation='softmax')(x)\n",
        "\n",
        "model = Model(inputs=inputs, outputs=x)\n",
        "model.summary()\n"
      ],
      "metadata": {
        "colab": {
          "base_uri": "https://localhost:8080/"
        },
        "id": "S5alU-CzCU85",
        "outputId": "474b50e2-f8a9-4241-b7d8-16a4bce1b55c"
      },
      "execution_count": null,
      "outputs": [
        {
          "output_type": "stream",
          "name": "stdout",
          "text": [
            "Model: \"model_3\"\n",
            "_________________________________________________________________\n",
            " Layer (type)                Output Shape              Param #   \n",
            "=================================================================\n",
            " input_2 (InputLayer)        [(None, 28, 28, 1)]       0         \n",
            "                                                                 \n",
            " flatten (Flatten)           (None, 784)               0         \n",
            "                                                                 \n",
            " dense_17 (Dense)            (None, 300)               235500    \n",
            "                                                                 \n",
            " dense_18 (Dense)            (None, 100)               30100     \n",
            "                                                                 \n",
            " dense_19 (Dense)            (None, 10)                1010      \n",
            "                                                                 \n",
            "=================================================================\n",
            "Total params: 266,610\n",
            "Trainable params: 266,610\n",
            "Non-trainable params: 0\n",
            "_________________________________________________________________\n"
          ]
        }
      ]
    },
    {
      "cell_type": "markdown",
      "source": [
        "input layer: This is the input lahyer of the nueral network, designed to accept 28X28 grayscale images as input.\n",
        "\n",
        "Flatten layer: This layer flatten 28X28 input images into a 1D vector of length 784, it is often used as a bridge between convolutional layers and fully connected layers.\n",
        "\n",
        "Dense Layer: this is a fully connected layer with 300 neurons,\n",
        "235500 trainable parameter(weights and biases) that will learned during training.\n",
        "\n",
        "Total params: 266,610 -> total number of parameter(weights and biases) in the entire model.\n",
        "\n",
        "Trainable params: 266,610 -> all params will be updated during training based on the loss and optimization process.\n",
        "\n",
        "Non-Trainable: no non-trainable params.\n",
        "\n",
        "what is trainable? They are learned from the training data through\n",
        "techniques like gradient descent and backpropagation.\n",
        "Non-trainable? not updated during training and typically set as fixed values or constants. Non-trainable parameters are often used in certain layers of a neural network, such as normalization layer.\n",
        "or as part of pretrained models."
      ],
      "metadata": {
        "id": "5GofuahFDcFT"
      }
    },
    {
      "cell_type": "code",
      "source": [
        "model.layers # 우리가 정의한 레이어들이 들어가 있음."
      ],
      "metadata": {
        "colab": {
          "base_uri": "https://localhost:8080/"
        },
        "id": "1WbaA6C7FgO6",
        "outputId": "d51244d8-0ef5-4b37-9a73-48c1e5d9657b"
      },
      "execution_count": null,
      "outputs": [
        {
          "output_type": "execute_result",
          "data": {
            "text/plain": [
              "[<keras.engine.input_layer.InputLayer at 0x7f6e3d97da20>,\n",
              " <keras.layers.reshaping.flatten.Flatten at 0x7f6e3d97fe20>,\n",
              " <keras.layers.core.dense.Dense at 0x7f6e3d97eb00>,\n",
              " <keras.layers.core.dense.Dense at 0x7f6e3d97d480>,\n",
              " <keras.layers.core.dense.Dense at 0x7f6e3d97d540>]"
            ]
          },
          "metadata": {},
          "execution_count": 17
        }
      ]
    },
    {
      "cell_type": "code",
      "source": [
        "hidden_2 = model.layers[2]\n",
        "hidden_2.name"
      ],
      "metadata": {
        "colab": {
          "base_uri": "https://localhost:8080/",
          "height": 35
        },
        "id": "lhwxe1flICuP",
        "outputId": "df0eb1f9-94e1-4695-f00d-808c91ae6e3b"
      },
      "execution_count": null,
      "outputs": [
        {
          "output_type": "execute_result",
          "data": {
            "text/plain": [
              "'dense_17'"
            ],
            "application/vnd.google.colaboratory.intrinsic+json": {
              "type": "string"
            }
          },
          "metadata": {},
          "execution_count": 19
        }
      ]
    },
    {
      "cell_type": "code",
      "source": [
        "model.get_layer('dense_17') is hidden_2"
      ],
      "metadata": {
        "colab": {
          "base_uri": "https://localhost:8080/"
        },
        "id": "IJtcBCrVIPRq",
        "outputId": "e28b428d-7955-4d8c-b30f-337bd6d1520b"
      },
      "execution_count": null,
      "outputs": [
        {
          "output_type": "execute_result",
          "data": {
            "text/plain": [
              "True"
            ]
          },
          "metadata": {},
          "execution_count": 20
        }
      ]
    },
    {
      "cell_type": "code",
      "source": [
        "weights, biases = hidden_2.get_weights()\n",
        "print(weights.shape)\n",
        "print(biases.shape)"
      ],
      "metadata": {
        "colab": {
          "base_uri": "https://localhost:8080/"
        },
        "id": "2nBLY3I9Iexh",
        "outputId": "0456e4d5-e4ec-4df3-ff7e-715d8b2b5681"
      },
      "execution_count": null,
      "outputs": [
        {
          "output_type": "stream",
          "name": "stdout",
          "text": [
            "(784, 300)\n",
            "(300,)\n"
          ]
        }
      ]
    },
    {
      "cell_type": "markdown",
      "source": [
        "what are weights and biases?\n",
        "weights(W): numerical values associated with the connections between neurons in adjancent lyaers of a neural network. each connection has a weight, and these weights determines the strength of connection. During the training process, these weights are adjusted to minimize the difference between the model's predictions and the actual target values.\n",
        "Biases(b): additional parameters associated with each neuron in a layer of a neural network. They provide the model with some flexibility by allowing it to shift the activation function's output up or down. Biases help the network fit complex patterns that cannot be captured by weights alone."
      ],
      "metadata": {
        "id": "K-97zJu_JJMA"
      }
    },
    {
      "cell_type": "code",
      "source": [
        "print(weights)"
      ],
      "metadata": {
        "colab": {
          "base_uri": "https://localhost:8080/"
        },
        "id": "ag25K5KqI-tJ",
        "outputId": "cdaad62b-2508-4dde-e1ec-88b5d84c1279"
      },
      "execution_count": null,
      "outputs": [
        {
          "output_type": "stream",
          "name": "stdout",
          "text": [
            "[[ 0.06261741 -0.05741969  0.05719897 ... -0.01520517 -0.00312486\n",
            "   0.01940239]\n",
            " [-0.03996078 -0.02436668 -0.02099403 ... -0.071114    0.01856855\n",
            "  -0.02678953]\n",
            " [ 0.00817509  0.04083568  0.03068232 ... -0.06759263 -0.03436274\n",
            "  -0.03167697]\n",
            " ...\n",
            " [ 0.04248057 -0.05449409 -0.02619473 ...  0.02581411  0.07285453\n",
            "   0.03497   ]\n",
            " [ 0.00206327 -0.0361979  -0.05785057 ...  0.01330014  0.00082545\n",
            "   0.05309857]\n",
            " [ 0.03669116 -0.01683541 -0.01183427 ... -0.07050198 -0.07294644\n",
            "   0.0724176 ]]\n"
          ]
        }
      ]
    },
    {
      "cell_type": "code",
      "source": [
        "print(biases)"
      ],
      "metadata": {
        "colab": {
          "base_uri": "https://localhost:8080/"
        },
        "id": "6SeVbjIHJBl7",
        "outputId": "bb92c06d-ced3-4116-c5de-04e446d825d7"
      },
      "execution_count": null,
      "outputs": [
        {
          "output_type": "stream",
          "name": "stdout",
          "text": [
            "[0. 0. 0. 0. 0. 0. 0. 0. 0. 0. 0. 0. 0. 0. 0. 0. 0. 0. 0. 0. 0. 0. 0. 0.\n",
            " 0. 0. 0. 0. 0. 0. 0. 0. 0. 0. 0. 0. 0. 0. 0. 0. 0. 0. 0. 0. 0. 0. 0. 0.\n",
            " 0. 0. 0. 0. 0. 0. 0. 0. 0. 0. 0. 0. 0. 0. 0. 0. 0. 0. 0. 0. 0. 0. 0. 0.\n",
            " 0. 0. 0. 0. 0. 0. 0. 0. 0. 0. 0. 0. 0. 0. 0. 0. 0. 0. 0. 0. 0. 0. 0. 0.\n",
            " 0. 0. 0. 0. 0. 0. 0. 0. 0. 0. 0. 0. 0. 0. 0. 0. 0. 0. 0. 0. 0. 0. 0. 0.\n",
            " 0. 0. 0. 0. 0. 0. 0. 0. 0. 0. 0. 0. 0. 0. 0. 0. 0. 0. 0. 0. 0. 0. 0. 0.\n",
            " 0. 0. 0. 0. 0. 0. 0. 0. 0. 0. 0. 0. 0. 0. 0. 0. 0. 0. 0. 0. 0. 0. 0. 0.\n",
            " 0. 0. 0. 0. 0. 0. 0. 0. 0. 0. 0. 0. 0. 0. 0. 0. 0. 0. 0. 0. 0. 0. 0. 0.\n",
            " 0. 0. 0. 0. 0. 0. 0. 0. 0. 0. 0. 0. 0. 0. 0. 0. 0. 0. 0. 0. 0. 0. 0. 0.\n",
            " 0. 0. 0. 0. 0. 0. 0. 0. 0. 0. 0. 0. 0. 0. 0. 0. 0. 0. 0. 0. 0. 0. 0. 0.\n",
            " 0. 0. 0. 0. 0. 0. 0. 0. 0. 0. 0. 0. 0. 0. 0. 0. 0. 0. 0. 0. 0. 0. 0. 0.\n",
            " 0. 0. 0. 0. 0. 0. 0. 0. 0. 0. 0. 0. 0. 0. 0. 0. 0. 0. 0. 0. 0. 0. 0. 0.\n",
            " 0. 0. 0. 0. 0. 0. 0. 0. 0. 0. 0. 0.]\n"
          ]
        }
      ]
    },
    {
      "cell_type": "markdown",
      "source": [
        "모델 컴파일. (1:09:36) - 모델을 구성한 후, loss function, optimizer."
      ],
      "metadata": {
        "id": "RqKPn6zcKDB2"
      }
    },
    {
      "cell_type": "markdown",
      "source": [
        "model.compile(loss='sparse_catergorical_crossentropy',\n",
        "              optimizer='sgd',\n",
        "              matrics=['accuracy])"
      ],
      "metadata": {
        "id": "uf-No9NRRsbY"
      }
    },
    {
      "cell_type": "code",
      "source": [
        "model.compile(loss='sparse_catergorical_crossentropy',\n",
        "              optimizer='sgd',\n",
        "              metrics=['accuracy']) # metric:평가방법"
      ],
      "metadata": {
        "id": "dlfiIsFfR-Ti"
      },
      "execution_count": 13,
      "outputs": []
    },
    {
      "cell_type": "markdown",
      "source": [
        "예측값과 실제값의 차이를 손실함수를 통해서 계산할 수 있음.\n",
        "손실함수: 해당과정이 얼마나 잘 되고 있는지를 나타내는 지표, 모델이 훈련되는 동안,\n",
        "최소한의 값으로 문제에 대한 성공 지표\n",
        "손실함수에 따른  결과를 통해 학습 파라미터를 조정.\n",
        "최적화 이론에서 최소화 하고자 하는 함수.\n",
        "미분가능한 함수 사용.\n",
        "\n",
        "the loss functions in Keras.\n",
        "  - sparse_categorical_crossentropy 배타적 방식으로 구분시.\n",
        "  - categorical_cross_entropy 원-한 인코딩 -> 정답은 1, 나머지는 0 으로 표현된 방식.\n",
        "  - binary_crossentropy 이진분류\n",
        "\n",
        "# MAE(mean absolute error) 평균절대오차\n",
        "  - 오차가 커져도 손실함수가 일정하게 증가.\n",
        "  - outlier -> Robust?\n",
        "  - 입력과 정답 관계가 적절하지 않을 경우에.\n",
        "  - 회귀(regression)\n",
        "  - 정답에서 추정한 값을 빼고, 절대값으로 만든다.\n",
        "\n",
        "  E = (1/n) sum(yi - yi~) yi: 정답, yi~: 추정치(추론한 값). (mean를 계산한다.)\n",
        "\n",
        "# MSE(mean squared error) 평균제곱오차\n",
        "  - 오차가 커질수록 빠르게 증가\n",
        "  - 정답과 예측한 값의 차이가 클수록 더 많은 페널티를 부과.\n",
        "  - regression\n",
        "  E = (1/n) sum((yi - yi~)^2)\n",
        "\n",
        "comparison between MAE and MSE\n",
        "  - MAE: constant slope\n",
        "  - MSE: the slope is being decreasing.\n",
        "\n",
        "One-Hot Encoding: dummy variable, right-answer labeled,\n",
        "others in 0\n",
        "\n",
        "label encoding\n",
        "apple cat#1\n",
        "chicken cat#2\n",
        "broccoli cat#3\n",
        "\n",
        "one hot encoding\n",
        "       apple chicken brocolli calories\n",
        "(cat#1)   1       0       0\n",
        "(cat#2)   0       1       0\n",
        "(cat#3)   0       0       1\n",
        "\n",
        "row labels not necessary, 1 is the flag to express the apple's location or apple's row, the row with 1 for apple is apple's information.\n",
        "\n",
        "# CEE\n",
        "Cross-Entropy Error: loss function in machine-learning\n",
        "(for classification problems particularly).\n",
        "\n",
        "Binary Classification: two classes, labeled as 0 and 1.\n",
        "the CEE formula for binary classification is,\n",
        "  CEE = -(y*log(p) + (1-y)*log(1-p))\n",
        "  y is the true label(0 or 1)\n",
        "  p is the predicted probability that the example belongs to class 1.\n",
        "\n",
        "Multi-Class Classification: more than two classes, and CEE using SoftMax.\n",
        "\n",
        "SoftMax: a function sued to covert raw score into probability distributions over multiple classes in multi-class classification problems. a vector of real numbers and transfoms them into probabilities, ensuring that the sum of these probabilities equals 1.\n",
        "\n",
        "primary purpose of the SoftMax function is to make it easier to\n",
        "interpret the model's output as class probabilities.\n",
        "\n",
        "key of softmax functions.\n",
        "  Normalization\n",
        "  Sesitivity to Difference\n",
        "  Monotomicity\n",
        "  Differentiation\n",
        "\n",
        "y = log(x) -> x가 1에 가까울수록 0에 가까워짐. x가 0에 가까울수록 y값은 무한히 커짐.\n",
        "\n",
        "\n",
        "  E = (-1/N) sum(sum(yi * log(yi~)))\n",
        "\n",
        "  N: 전체 데이터의 개수\n",
        "  i: 데이터 하나당 클래스의 개수(???)\n",
        "  정답데이블(yi)는 원-핫 인코딩으로 정답인 인덱스에만 1이고, 나머지는 모두 0.\n",
        "  따라서,\n",
        "      E = -log(yi~)\n",
        "  정답에 가까워질수록 오차값은 작아짐.\n",
        "  학습시, 원-핫 인코딩에 의해 정답 인덱스만 살아남아 비교하지만, 정답이 아닌 인덱스도\n",
        "  학습에 영향을 미침. 다중클래스 분류는 소프트맥스함수를 통해 전체 항들을 다루기 때문.\n",
        "\n",
        "# BCE\n",
        "binary cross Entropy: 크로스 엔트로피 오차를 손실함수로 사용가능.\n",
        "\n",
        "# optimizer\n",
        "  손실 함수를 기반.\n",
        "  업데이트를 어떻게 하는지를 결정.\n",
        "  특정 종류의 확률적 경사 하강법을 구현.\n",
        "  Keras's optimizers are,\n",
        "    - keras.optimizer.SGD(): standard.\n",
        "    - keras.optimizer.Adam()\n",
        "  도통 옵티마이저의 튜닝을 위해 객체를 생성하여 컴파일.\n",
        "\n",
        "# Convex and non-Convex functions (1:25:09)\n",
        "  convex(minimizer) - 어떤 지점에서 시자하더라고 최저값에 도달.\n",
        "  non-convex(local min, global minimum, saddle-point) - 시작점의 위치에 따라서 다른 최적값에 도달할 수 있음.\n",
        "\n",
        "# 경사하강법. (Gradient Decent) (1:26:10)\n",
        "  - a fundamental optimization algorithm.\n",
        "  - to minimize a loss function and find the optimal parameters\n",
        "  (weight and biases) of a model.\n",
        "  - higher-level explanation of how gradient descent works:\n",
        "    - Initializing: To start optimization process, we initialize the\n",
        "      model's parameters with some initial values.\n",
        "      These parameters represent the model's weights and biases\n",
        "    -\n",
        "\n",
        "\n",
        "\n",
        "\n",
        "\n",
        "\n"
      ],
      "metadata": {
        "id": "twO2tMc0Slt-"
      }
    }
  ]
}