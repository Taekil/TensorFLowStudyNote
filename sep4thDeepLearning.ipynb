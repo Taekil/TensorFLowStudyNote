{
  "nbformat": 4,
  "nbformat_minor": 0,
  "metadata": {
    "colab": {
      "provenance": [],
      "authorship_tag": "ABX9TyNZ0CS96uq64hfc6I/WIDFQ",
      "include_colab_link": true
    },
    "kernelspec": {
      "name": "python3",
      "display_name": "Python 3"
    },
    "language_info": {
      "name": "python"
    }
  },
  "cells": [
    {
      "cell_type": "markdown",
      "metadata": {
        "id": "view-in-github",
        "colab_type": "text"
      },
      "source": [
        "<a href=\"https://colab.research.google.com/github/Taekil/TensorFLowStudyNote/blob/master/sep4thDeepLearning.ipynb\" target=\"_parent\"><img src=\"https://colab.research.google.com/assets/colab-badge.svg\" alt=\"Open In Colab\"/></a>"
      ]
    },
    {
      "cell_type": "markdown",
      "source": [
        "이수안컴퓨터연구소 유투브 따라하기.\n",
        "https://www.youtube.com/watch?v=28QbrkRkHlo&t=88s"
      ],
      "metadata": {
        "id": "GPEfI8H25byE"
      }
    },
    {
      "cell_type": "markdown",
      "source": [
        "Tensor -> Rank, shape(ex: shape(3,3,3,3,3,3), Type(data type)\n",
        "\n",
        "0D tensor(scalar)\n",
        "1D"
      ],
      "metadata": {
        "id": "GSc8ksJQ6QN-"
      }
    },
    {
      "cell_type": "code",
      "execution_count": 7,
      "metadata": {
        "id": "KBam6ljY3ayD"
      },
      "outputs": [],
      "source": [
        "import tensorflow as tf\n",
        "import numpy as np\n"
      ]
    },
    {
      "cell_type": "markdown",
      "source": [
        "0D Tensor(Scalar) -> no axis and no shape"
      ],
      "metadata": {
        "id": "2X3VIoi27PUj"
      }
    },
    {
      "cell_type": "code",
      "source": [
        "t0 = tf.constant(1)\n",
        "print(t0)\n",
        "print(tf.rank(t0))"
      ],
      "metadata": {
        "colab": {
          "base_uri": "https://localhost:8080/"
        },
        "id": "E1qIv3gA7Up2",
        "outputId": "df126494-4753-4ed9-9130-c600bde578d0"
      },
      "execution_count": 6,
      "outputs": [
        {
          "output_type": "stream",
          "name": "stdout",
          "text": [
            "tf.Tensor(1, shape=(), dtype=int32)\n",
            "tf.Tensor(0, shape=(), dtype=int32)\n"
          ]
        }
      ]
    },
    {
      "cell_type": "markdown",
      "source": [
        "1이라는 값을 가진 t0라는 tensor, print(t0)-> 1, and rank:0, so returns\n",
        "are 1, 0"
      ],
      "metadata": {
        "id": "q7kiL2M_7lqU"
      }
    },
    {
      "cell_type": "markdown",
      "source": [
        "1-D tensor"
      ],
      "metadata": {
        "id": "cxYk-8cv8Cqs"
      }
    },
    {
      "cell_type": "code",
      "source": [
        "t1 = tf.constant([1, 2, 3])\n",
        "print(t1)\n",
        "print(tf.rank(t1))"
      ],
      "metadata": {
        "colab": {
          "base_uri": "https://localhost:8080/"
        },
        "id": "1eHPlL_U8EfG",
        "outputId": "935392f4-d97a-4308-903a-874a4efd698f"
      },
      "execution_count": null,
      "outputs": [
        {
          "output_type": "stream",
          "name": "stdout",
          "text": [
            "tf.Tensor([1 2 3], shape=(3,), dtype=int32)\n",
            "tf.Tensor(1, shape=(), dtype=int32)\n"
          ]
        }
      ]
    },
    {
      "cell_type": "markdown",
      "source": [
        "t1-> 1-D tensor-> value is [1, 2, 3], shape is 3 elements\n",
        "the rank is 1"
      ],
      "metadata": {
        "id": "rqR5apCL8Nx8"
      }
    },
    {
      "cell_type": "markdown",
      "source": [
        "2-D tensor -> matrix\n",
        "general form -> samples and features.\n"
      ],
      "metadata": {
        "id": "QUf8uovs-Mhc"
      }
    },
    {
      "cell_type": "code",
      "source": [
        "t2 = tf.constant([[1, 2, 3],\n",
        "                  [4, 5, 6],\n",
        "                  [7, 8, 9]])\n",
        "print(t2)\n",
        "print(tf.rank(t2)) # rank is 2, there are row and column(ex: sample and feature)"
      ],
      "metadata": {
        "colab": {
          "base_uri": "https://localhost:8080/"
        },
        "id": "hgCrynQn-TAY",
        "outputId": "edd27839-5104-4901-ad36-b3003babf78c"
      },
      "execution_count": 7,
      "outputs": [
        {
          "output_type": "stream",
          "name": "stdout",
          "text": [
            "tf.Tensor(\n",
            "[[1 2 3]\n",
            " [4 5 6]\n",
            " [7 8 9]], shape=(3, 3), dtype=int32)\n",
            "tf.Tensor(2, shape=(), dtype=int32)\n"
          ]
        }
      ]
    },
    {
      "cell_type": "markdown",
      "source": [
        "- 3-D tensor: cube, 3 axis, continous sequence data and time-flow data.\n",
        "- stock price data-set, and the desease-time data\n",
        "- samples, and timesteps, features."
      ],
      "metadata": {
        "id": "odMUcPAv-sMM"
      }
    },
    {
      "cell_type": "code",
      "source": [
        "# this is the 3X3X3 shape rank 3 3-D tensor\n",
        "t3 = tf.constant([[[1, 2, 3],[4, 5, 6],[7, 8, 9]],\n",
        "                  [[1, 2, 3],[4, 5, 6],[7, 8, 9]],\n",
        "                  [[1, 2, 3],[4, 5, 6],[7, 8, 9]]])\n",
        "\n",
        "print(t3) # shape=(3, 3, 3)\n",
        "print(tf.rank(t3)) # rank 3 (3 axies)"
      ],
      "metadata": {
        "colab": {
          "base_uri": "https://localhost:8080/"
        },
        "id": "yccAXUys_ZlW",
        "outputId": "6cc22dde-5ce5-4a76-f9c4-31504d48490f"
      },
      "execution_count": 8,
      "outputs": [
        {
          "output_type": "stream",
          "name": "stdout",
          "text": [
            "tf.Tensor(\n",
            "[[[1 2 3]\n",
            "  [4 5 6]\n",
            "  [7 8 9]]\n",
            "\n",
            " [[1 2 3]\n",
            "  [4 5 6]\n",
            "  [7 8 9]]\n",
            "\n",
            " [[1 2 3]\n",
            "  [4 5 6]\n",
            "  [7 8 9]]], shape=(3, 3, 3), dtype=int32)\n",
            "tf.Tensor(3, shape=(), dtype=int32)\n"
          ]
        }
      ]
    },
    {
      "cell_type": "markdown",
      "source": [
        "- 4-D tensor -> color image (black-white image-> 3-D tensor possible)\n",
        "- samples, hieght, width, channel(for color, RGB)\n"
      ],
      "metadata": {
        "id": "Sj36B8B1QIG8"
      }
    },
    {
      "cell_type": "markdown",
      "source": [
        "5-D tensor -> video data -> samples, frames, height, width, channel."
      ],
      "metadata": {
        "id": "iti0ZTaWQgFC"
      }
    },
    {
      "cell_type": "markdown",
      "source": [
        "* Tensor Data Type(dtype)\n",
        "  - int32\n",
        "  - float32\n",
        "  - string\n",
        "  - etc(float16, int8 ....)\n",
        "  - all tensor dTypes all same for operating.\n",
        "  - tf.cast() -> for dType transfer.\n"
      ],
      "metadata": {
        "id": "8TJTUMZjRnxJ"
      }
    },
    {
      "cell_type": "code",
      "source": [
        "# type stransfer\n",
        "i = tf.constant(2)\n",
        "print(i)"
      ],
      "metadata": {
        "colab": {
          "base_uri": "https://localhost:8080/"
        },
        "id": "be0z27P_SDQA",
        "outputId": "5397d49a-6cad-48d1-f240-bdcc7ec87a7e"
      },
      "execution_count": 9,
      "outputs": [
        {
          "output_type": "stream",
          "name": "stdout",
          "text": [
            "tf.Tensor(2, shape=(), dtype=int32)\n"
          ]
        }
      ]
    },
    {
      "cell_type": "code",
      "source": [
        "f = tf.constant(2.)\n",
        "print(f)"
      ],
      "metadata": {
        "colab": {
          "base_uri": "https://localhost:8080/"
        },
        "id": "6mH23IohSDow",
        "outputId": "fbff83f7-816a-47ff-d4a6-4e4bb48a27c3"
      },
      "execution_count": 10,
      "outputs": [
        {
          "output_type": "stream",
          "name": "stdout",
          "text": [
            "tf.Tensor(2.0, shape=(), dtype=float32)\n"
          ]
        }
      ]
    },
    {
      "cell_type": "code",
      "source": [
        "s = tf.constant('Suan')\n",
        "print(s)"
      ],
      "metadata": {
        "colab": {
          "base_uri": "https://localhost:8080/"
        },
        "id": "zTPhtHuvSD7A",
        "outputId": "fbafe7f2-3298-411c-be79-fde5197d1fb7"
      },
      "execution_count": 12,
      "outputs": [
        {
          "output_type": "stream",
          "name": "stdout",
          "text": [
            "tf.Tensor(b'Suan', shape=(), dtype=string)\n"
          ]
        }
      ]
    },
    {
      "cell_type": "code",
      "source": [
        "f16 = tf.constant(2.0, dtype=tf.float16)\n",
        "print(f16)"
      ],
      "metadata": {
        "colab": {
          "base_uri": "https://localhost:8080/"
        },
        "id": "GOOTQlPgSU-Z",
        "outputId": "de796e43-bb51-4de8-ca78-e9b3389e8820"
      },
      "execution_count": 13,
      "outputs": [
        {
          "output_type": "stream",
          "name": "stdout",
          "text": [
            "tf.Tensor(2.0, shape=(), dtype=float16)\n"
          ]
        }
      ]
    },
    {
      "cell_type": "code",
      "source": [
        "i8 = tf.constant(2, dtype=tf.int8)\n",
        "print(i8)"
      ],
      "metadata": {
        "colab": {
          "base_uri": "https://localhost:8080/"
        },
        "id": "m2gJPGujSU1f",
        "outputId": "2d56de5a-08a4-48ed-cb60-b255ef566f2a"
      },
      "execution_count": 14,
      "outputs": [
        {
          "output_type": "stream",
          "name": "stdout",
          "text": [
            "tf.Tensor(2, shape=(), dtype=int8)\n"
          ]
        }
      ]
    },
    {
      "cell_type": "code",
      "source": [
        "f32 = tf.cast(f16, tf.float32) # transfering f16 to f32 (dtype tranferring, tf.cast)\n",
        "print(f32)\n"
      ],
      "metadata": {
        "colab": {
          "base_uri": "https://localhost:8080/"
        },
        "id": "ZmITJppLTLl5",
        "outputId": "41836a8f-caac-4859-b467-76503dcc9306"
      },
      "execution_count": 15,
      "outputs": [
        {
          "output_type": "stream",
          "name": "stdout",
          "text": [
            "tf.Tensor(2.0, shape=(), dtype=float32)\n"
          ]
        }
      ]
    },
    {
      "cell_type": "code",
      "source": [
        "i32 = tf.cast(i8, tf.int32)\n",
        "print(i32)"
      ],
      "metadata": {
        "colab": {
          "base_uri": "https://localhost:8080/"
        },
        "id": "Q8yLtjbJTe7s",
        "outputId": "b6981ace-695e-4ff5-dfb8-632cc42a9355"
      },
      "execution_count": 16,
      "outputs": [
        {
          "output_type": "stream",
          "name": "stdout",
          "text": [
            "tf.Tensor(2, shape=(), dtype=int32)\n"
          ]
        }
      ]
    },
    {
      "cell_type": "markdown",
      "source": [
        "* Tensor Calculation."
      ],
      "metadata": {
        "id": "SQqyQSgyTmts"
      }
    },
    {
      "cell_type": "code",
      "source": [
        "print(tf.constant(2) + tf.constant(2))\n",
        "print(tf.constant(2) - tf.constant(2))\n",
        "print(tf.add(tf.constant(2), tf.constant(2)))\n",
        "print(tf.subtract(tf.constant(2), tf.constant(2)))"
      ],
      "metadata": {
        "colab": {
          "base_uri": "https://localhost:8080/"
        },
        "id": "KWEqd4LGTmgJ",
        "outputId": "33d0d9b0-f28f-4567-edff-3050fbe71e8d"
      },
      "execution_count": 17,
      "outputs": [
        {
          "output_type": "stream",
          "name": "stdout",
          "text": [
            "tf.Tensor(4, shape=(), dtype=int32)\n",
            "tf.Tensor(0, shape=(), dtype=int32)\n",
            "tf.Tensor(4, shape=(), dtype=int32)\n",
            "tf.Tensor(0, shape=(), dtype=int32)\n"
          ]
        }
      ]
    },
    {
      "cell_type": "code",
      "source": [
        "print(tf.constant(2) * tf.constant(2))\n",
        "print(tf.constant(2) / tf.constant(2))\n",
        "print(tf.multiply(tf.constant(2), tf.constant(2)))\n",
        "print(tf.divide(tf.constant(2), tf.constant(2)))"
      ],
      "metadata": {
        "colab": {
          "base_uri": "https://localhost:8080/"
        },
        "id": "WCG2cs_zTrpY",
        "outputId": "9e2687c6-f301-4088-b129-c38912d8956b"
      },
      "execution_count": 19,
      "outputs": [
        {
          "output_type": "stream",
          "name": "stdout",
          "text": [
            "tf.Tensor(4, shape=(), dtype=int32)\n",
            "tf.Tensor(1.0, shape=(), dtype=float64)\n",
            "tf.Tensor(4, shape=(), dtype=int32)\n",
            "tf.Tensor(1.0, shape=(), dtype=float64)\n"
          ]
        }
      ]
    },
    {
      "cell_type": "code",
      "source": [
        "# int + float\n",
        "# in tensorflow -> not possible operating the calculation.\n",
        "# the dtypes have to be same not like other programming languages.\n",
        "# print(tf.constant(2) + tf.constant(2.2))\n",
        "print(tf.cast(tf.constant(2), tf.float32) + tf.constant(2.2)) # this is working -> cast int into float."
      ],
      "metadata": {
        "colab": {
          "base_uri": "https://localhost:8080/"
        },
        "id": "7jnlOBr5TreZ",
        "outputId": "9921a403-5c63-4942-de95-ce5dea3e7e0d"
      },
      "execution_count": 21,
      "outputs": [
        {
          "output_type": "stream",
          "name": "stdout",
          "text": [
            "tf.Tensor(4.2, shape=(), dtype=float32)\n"
          ]
        }
      ]
    },
    {
      "cell_type": "markdown",
      "source": [
        "  * The Sructure of DL(Deep-Learning) and the Learning Process\n",
        "    * Elements\n",
        "      - Model(network) -> layer\n",
        "      - input(I/P) and Output(O/P)\n",
        "      - Loss Function\n",
        "      - Optimizer (process method) -> reward system?\n",
        "     "
      ],
      "metadata": {
        "id": "5kv9RtwwTrNT"
      }
    },
    {
      "cell_type": "markdown",
      "source": [
        "* Layer -> the core data structure\n",
        "* input tensor >= 1 -> output tensor >= 1\n",
        "* weight -> there will be no status layer, but most layer has expression to show the status, it is \"weight\"\n",
        "* weight is (possibility regression?) 확률적 경사 하강법(stochastic gradient Descent)(SGD)에 의해 학습되는\n",
        "하나 이상의 텐서.\n",
        "\n",
        "* what kind of optimization mehtods?\n",
        "  -> https://gooopy.tistory.com/69\n",
        "  -> Batch Gradient Descent, BGD\n",
        "    -> Target and batch size are same -> everything into batch!\n",
        "    -> but Lcal Optima(minimum) problem.\n",
        "    -> big data set -> time resources are wasted.\n",
        "  \n",
        "  -> Stochastic Gradient Descent, SGD\n",
        "  -> Random sample data set -> only calculating the sample's gradient\n",
        "  -> learning Speed is high because small data numbers.\n",
        "  -> less-memory.\n",
        "  -> but not stable than BGD\n",
        "  -> not getting global minimum (but, closed value)\n",
        "  -> SDG -> fast and less-memory -> randomly-movement -> not easy to\n",
        "  get global minimum.\n",
        "  -> so, we have mini-batch gradient Descent.\n",
        "\n",
        "  Learning Rate Schedule ->\n",
        "\n",
        "  mini-batch Gradient Descent\n",
        "  -> smaller batch and using Stochastic Gradient Descent.\n",
        "  -> using 1000EA batch: 100, mini batch:10\n",
        "  -> SGD with mini-batch -> 10SGD/1epoch\n",
        "  -> SGD is Mini-Batch (typically)\n",
        "\n",
        "\n",
        "* Keras -> major layers -> DENSE, ACTIVATION, FLATTEN, INPUT."
      ],
      "metadata": {
        "id": "fuT536oZWWiu"
      }
    },
    {
      "cell_type": "code",
      "source": [
        "from tensorflow.keras.layers import Dense, Activation, Flatten, Input"
      ],
      "metadata": {
        "id": "j-Yfo0qEekxT"
      },
      "execution_count": 2,
      "outputs": []
    },
    {
      "cell_type": "markdown",
      "source": [
        "33:11 DENSE - 완전 연결계층 -> fully-Connected layer.\n",
        "노드가 존재했을 때 모든 노드가 서로 완전하게 연결되어 있는 경우.\n",
        "노드의 수\n",
        "activation function 지정가능.\n",
        "name을 통해서 레이어 구분 가능.\n",
        "kernel_initilizer(가중치 초기화)-> 가중치의 초기값은 신경망의 성능에 큰 영향을 줌.\n",
        "-> 보통 가중치의 초기값으로 0에 가까운 무작위 값을 사용. -> 초기값이 다를 경우, 성능차이발생.\n",
        "-> 오차역전파 알고리즘 -> 경사하강법 -> 지역해에 빠질 가능성이 있음.\n",
        "\n"
      ],
      "metadata": {
        "id": "x-OSO4PsjPUM"
      }
    },
    {
      "cell_type": "code",
      "source": [
        "Dense(10, activation= 'softmax') # numbers of units(nodes)"
      ],
      "metadata": {
        "colab": {
          "base_uri": "https://localhost:8080/"
        },
        "id": "eA7D3Arof9Im",
        "outputId": "d873e174-981d-4b18-df3f-3c665e7b26fb"
      },
      "execution_count": 3,
      "outputs": [
        {
          "output_type": "execute_result",
          "data": {
            "text/plain": [
              "<keras.layers.core.dense.Dense at 0x7cfb08c7fa60>"
            ]
          },
          "metadata": {},
          "execution_count": 3
        }
      ]
    },
    {
      "cell_type": "code",
      "source": [
        "Dense(10, activation= 'relu', name = 'Dense Layer')"
      ],
      "metadata": {
        "colab": {
          "base_uri": "https://localhost:8080/"
        },
        "id": "oy23K8x6gPQ5",
        "outputId": "7de6f83c-cb2f-4397-aabd-095ee7b303dc"
      },
      "execution_count": 5,
      "outputs": [
        {
          "output_type": "execute_result",
          "data": {
            "text/plain": [
              "<keras.layers.core.dense.Dense at 0x7cfb07fdbeb0>"
            ]
          },
          "metadata": {},
          "execution_count": 5
        }
      ]
    },
    {
      "cell_type": "code",
      "source": [
        "Dense(10, kernel_initializer='he_normal', name='Dense Layer')"
      ],
      "metadata": {
        "colab": {
          "base_uri": "https://localhost:8080/"
        },
        "id": "KOyW4oQPgaJB",
        "outputId": "eed0f03e-31d8-47be-c7c6-523e7d85a471"
      },
      "execution_count": 6,
      "outputs": [
        {
          "output_type": "execute_result",
          "data": {
            "text/plain": [
              "<keras.layers.core.dense.Dense at 0x7cfb080f2e60>"
            ]
          },
          "metadata": {},
          "execution_count": 6
        }
      ]
    },
    {
      "cell_type": "markdown",
      "source": [
        "ACTIVATION-> dense layer에서 밀 활성화된 함수를 지정가능,\n",
        "하지만, 필요에 따라 별도의 레이어를 만들어줄 수 있음.\n"
      ],
      "metadata": {
        "id": "lQB0V3UWgjHw"
      }
    },
    {
      "cell_type": "code",
      "source": [
        "dense = Dense(10, activation='relu', name='Dense Layer')\n",
        "Activation(dense)"
      ],
      "metadata": {
        "colab": {
          "base_uri": "https://localhost:8080/"
        },
        "id": "DLdPMohxheXJ",
        "outputId": "496899af-bd24-48cd-a789-36ad4cec2936"
      },
      "execution_count": 3,
      "outputs": [
        {
          "output_type": "execute_result",
          "data": {
            "text/plain": [
              "<keras.layers.core.activation.Activation at 0x798b13315870>"
            ]
          },
          "metadata": {},
          "execution_count": 3
        }
      ]
    },
    {
      "cell_type": "markdown",
      "source": [
        "Flatten -> 배치 크기(또는 데이터 크기)를 제외하고 데이터를 1차원으로 쭉 펼치는 작업.\n",
        "128, 3, 2, 2 -> 128, 12"
      ],
      "metadata": {
        "id": "MvT8sKhhhv5D"
      }
    },
    {
      "cell_type": "code",
      "source": [
        "Flatten(input_shape=(128, 3, 2, 2))"
      ],
      "metadata": {
        "colab": {
          "base_uri": "https://localhost:8080/"
        },
        "id": "12DWVV0Th_Pt",
        "outputId": "1a53e84d-15a0-4cc5-e7f9-f291e9b2aecc"
      },
      "execution_count": 4,
      "outputs": [
        {
          "output_type": "execute_result",
          "data": {
            "text/plain": [
              "<keras.layers.reshaping.flatten.Flatten at 0x798af62ce4d0>"
            ]
          },
          "metadata": {},
          "execution_count": 4
        }
      ]
    },
    {
      "cell_type": "markdown",
      "source": [
        "input: 모델의 입력을 정의, shape과 dtype, 여러개의 입력을 가질 수 있음.\n",
        "summary() 메소드를 통해서는 보이지 않음.\n"
      ],
      "metadata": {
        "id": "odY-bfTCiIuQ"
      }
    },
    {
      "cell_type": "code",
      "source": [
        "Input(shape=(28, 28), dtype=tf.float32)"
      ],
      "metadata": {
        "colab": {
          "base_uri": "https://localhost:8080/"
        },
        "id": "AkOf_12ViWEK",
        "outputId": "2bf4974f-cd7b-4c4f-c8b3-9455c50a240c"
      },
      "execution_count": 8,
      "outputs": [
        {
          "output_type": "execute_result",
          "data": {
            "text/plain": [
              "<KerasTensor: shape=(None, 28, 28) dtype=float32 (created by layer 'input_1')>"
            ]
          },
          "metadata": {},
          "execution_count": 8
        }
      ]
    },
    {
      "cell_type": "code",
      "source": [
        "Input(shape=(8,), dtype=tf.int32)"
      ],
      "metadata": {
        "colab": {
          "base_uri": "https://localhost:8080/"
        },
        "id": "KdC1HLRbinHC",
        "outputId": "2950ff65-022a-4369-d1f8-7eeef97c97dd"
      },
      "execution_count": 9,
      "outputs": [
        {
          "output_type": "execute_result",
          "data": {
            "text/plain": [
              "<KerasTensor: shape=(None, 8) dtype=int32 (created by layer 'input_2')>"
            ]
          },
          "metadata": {},
          "execution_count": 9
        }
      ]
    },
    {
      "cell_type": "markdown",
      "source": [
        "모델은 레이어로 만들어진다, 딥러닝 모델은 레이어로 만들어진 비순환 유향 그래프\n",
        "(Directed Acyclic Graph, DAG) 구조.\n",
        "\n",
        "모델을 구성하는 방법 -> sequential(), subclassing, 함수형 API.\n",
        "\n",
        "Sequential() -> 순차적인 구조로 진행할 때 사용하는 방법.\n",
        "-> creation of Sequential object, then add()\n",
        "-> Sequential 인자에 한번에 추가하는 방법.\n",
        "-> 다중입력 및 출력 안됨. -> 복잡한 모델을 구성할 수 없음.\n",
        "\n",
        "\n"
      ],
      "metadata": {
        "id": "G86ZDDPDi2FW"
      }
    },
    {
      "cell_type": "code",
      "source": [
        "from tensorflow.keras.layers import Dense, Input, Flatten\n",
        "from tensorflow.keras.models import Sequential, Model\n",
        "from tensorflow.keras.utils import plot_model"
      ],
      "metadata": {
        "id": "XXSp0QLJr2GH"
      },
      "execution_count": 12,
      "outputs": []
    },
    {
      "cell_type": "code",
      "source": [
        "model = Sequential()\n",
        "model.add(Input(shape=(28, 28)))\n",
        "model.add(Dense(300, activation='relu'))\n",
        "model.add(Dense(100, activation='relu'))\n",
        "model.add(Dense(10, activation='softmax'))\n",
        "model.summary()"
      ],
      "metadata": {
        "colab": {
          "base_uri": "https://localhost:8080/"
        },
        "id": "EncFxg4Nr3XJ",
        "outputId": "14b488d2-e3c5-43c6-9dfa-8f0ec7d49b0b"
      },
      "execution_count": 14,
      "outputs": [
        {
          "output_type": "stream",
          "name": "stdout",
          "text": [
            "Model: \"sequential_2\"\n",
            "_________________________________________________________________\n",
            " Layer (type)                Output Shape              Param #   \n",
            "=================================================================\n",
            " dense (Dense)               (None, 28, 300)           8700      \n",
            "                                                                 \n",
            " dense_1 (Dense)             (None, 28, 100)           30100     \n",
            "                                                                 \n",
            " dense_2 (Dense)             (None, 28, 10)            1010      \n",
            "                                                                 \n",
            "=================================================================\n",
            "Total params: 39,810\n",
            "Trainable params: 39,810\n",
            "Non-trainable params: 0\n",
            "_________________________________________________________________\n"
          ]
        }
      ]
    },
    {
      "cell_type": "code",
      "source": [
        "plot_model(model)"
      ],
      "metadata": {
        "colab": {
          "base_uri": "https://localhost:8080/",
          "height": 369
        },
        "id": "dCR1y4c7r3LD",
        "outputId": "5e8e97cd-689a-4550-97c6-e89598d51684"
      },
      "execution_count": 15,
      "outputs": [
        {
          "output_type": "execute_result",
          "data": {
            "image/png": "[encoded data removed]",
            "text/plain": [
              "<IPython.core.display.Image object>"
            ]
          },
          "metadata": {},
          "execution_count": 15
        }
      ]
    },
    {
      "cell_type": "code",
      "source": [
        "model= Sequential([Input(shape=(28, 28), name='Input'),\n",
        "                   Dense(300, activation='relu', name='Dense1'),\n",
        "                   Dense(100, activation='relu', name='Dense2'),\n",
        "                   Dense(10, activation='softmax', name='Output')\n",
        "                  ])\n",
        "model.summary()"
      ],
      "metadata": {
        "colab": {
          "base_uri": "https://localhost:8080/"
        },
        "id": "IirQl6o_r21F",
        "outputId": "546a8fb3-ed6c-4ce1-b3d3-0d3b057f9b11"
      },
      "execution_count": 16,
      "outputs": [
        {
          "output_type": "stream",
          "name": "stdout",
          "text": [
            "Model: \"sequential_3\"\n",
            "_________________________________________________________________\n",
            " Layer (type)                Output Shape              Param #   \n",
            "=================================================================\n",
            " Dense1 (Dense)              (None, 28, 300)           8700      \n",
            "                                                                 \n",
            " Dense2 (Dense)              (None, 28, 100)           30100     \n",
            "                                                                 \n",
            " Output (Dense)              (None, 28, 10)            1010      \n",
            "                                                                 \n",
            "=================================================================\n",
            "Total params: 39,810\n",
            "Trainable params: 39,810\n",
            "Non-trainable params: 0\n",
            "_________________________________________________________________\n"
          ]
        }
      ]
    },
    {
      "cell_type": "code",
      "source": [
        "plot_model(model)"
      ],
      "metadata": {
        "colab": {
          "base_uri": "https://localhost:8080/",
          "height": 369
        },
        "id": "NJs67q0Kr2of",
        "outputId": "7c422357-b31d-4025-f062-8ce8d6c93777"
      },
      "execution_count": 17,
      "outputs": [
        {
          "output_type": "execute_result",
          "data": {
            "image/png": "[encoded data removed]",
            "text/plain": [
              "<IPython.core.display.Image object>"
            ]
          },
          "metadata": {},
          "execution_count": 17
        }
      ]
    },
    {
      "cell_type": "markdown",
      "source": [
        "함수형 API 가장 권장되는 방법, 복잡하고 유연하게 구성 가능, 다중 입축력 가능.\n",
        "\n"
      ],
      "metadata": {
        "id": "K2BhpGSzr33R"
      }
    },
    {
      "cell_type": "code",
      "source": [],
      "metadata": {
        "id": "ElFiDYN8vXso"
      },
      "execution_count": null,
      "outputs": []
    }
  ]
}