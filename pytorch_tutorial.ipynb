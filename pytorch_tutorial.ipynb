{
  "nbformat": 4,
  "nbformat_minor": 0,
  "metadata": {
    "colab": {
      "provenance": [],
      "authorship_tag": "ABX9TyP8SXPmLOyoJFJRzXJPwaKP",
      "include_colab_link": true
    },
    "kernelspec": {
      "name": "python3",
      "display_name": "Python 3"
    },
    "language_info": {
      "name": "python"
    }
  },
  "cells": [
    {
      "cell_type": "markdown",
      "metadata": {
        "id": "view-in-github",
        "colab_type": "text"
      },
      "source": [
        "<a href=\"https://colab.research.google.com/github/Taekil/TensorFLowStudyNote/blob/master/pytorch_tutorial.ipynb\" target=\"_parent\"><img src=\"https://colab.research.google.com/assets/colab-badge.svg\" alt=\"Open In Colab\"/></a>"
      ]
    },
    {
      "cell_type": "markdown",
      "source": [
        "https://tutorials.pytorch.kr/beginner/basics/tensorqs_tutorial.html\n",
        "\n",
        "tensors provide a unified wya to train neural networks for more complex data sets."
      ],
      "metadata": {
        "id": "cEqiVF4RvIav"
      }
    },
    {
      "cell_type": "code",
      "source": [
        "import torch\n",
        "import numpy as np\n",
        "\n",
        "data = [[1, 2], [3, 4]]\n",
        "x_data = torch.tensor(data)\n",
        "# tensor generated\n",
        "np_array = np.array(data)\n",
        "x_np = torch.from_numpy(np_array)\n",
        "x_ones = torch.ones_like(x_data) # keep shape and datatype\n",
        "print(f\"Ones Tensor: \\n {x_ones} \\n\")\n",
        "x_rand = torch.rand_like(x_data, dtype=torch.float) # override\n",
        "print(f\"Ones Tensor: \\n {x_rand} \\n\")"
      ],
      "metadata": {
        "colab": {
          "base_uri": "https://localhost:8080/"
        },
        "id": "fnwZZdwcvbSi",
        "outputId": "dcaeb035-944f-4c30-8ddf-61d69cb95e12"
      },
      "execution_count": 2,
      "outputs": [
        {
          "output_type": "stream",
          "name": "stdout",
          "text": [
            "Ones Tensor: \n",
            " tensor([[1, 1],\n",
            "        [1, 1]]) \n",
            "\n",
            "Ones Tensor: \n",
            " tensor([[0.8913, 0.6043],\n",
            "        [0.2337, 0.0606]]) \n",
            "\n"
          ]
        }
      ]
    },
    {
      "cell_type": "code",
      "source": [
        "# random or constant\n",
        "# shape is the tuple to express dimension\n",
        "shape = (2, 3, )\n",
        "rand_tensor = torch.rand(shape)\n",
        "ones_tensor = torch.ones(shape)\n",
        "zeros_tensor = torch.zeros(shape)\n",
        "\n",
        "print(f\"Random: \\n {rand_tensor}\\n\")\n",
        "print(f\"Ones: \\n {ones_tensor}\\n\")\n",
        "print(f\"Zeros: \\n {zeros_tensor}\\n\")"
      ],
      "metadata": {
        "id": "_VcPRwnsxj-f",
        "colab": {
          "base_uri": "https://localhost:8080/"
        },
        "outputId": "448982ff-c9b2-4d0d-be8f-fe32ed2dc055"
      },
      "execution_count": 3,
      "outputs": [
        {
          "output_type": "stream",
          "name": "stdout",
          "text": [
            "Random: \n",
            " tensor([[0.6699, 0.4394, 0.6460],\n",
            "        [0.8459, 0.9755, 0.7451]])\n",
            "\n",
            "Ones: \n",
            " tensor([[1., 1., 1.],\n",
            "        [1., 1., 1.]])\n",
            "\n",
            "Zeros: \n",
            " tensor([[0., 0., 0.],\n",
            "        [0., 0., 0.]])\n",
            "\n"
          ]
        }
      ]
    },
    {
      "cell_type": "markdown",
      "source": [
        "tensor's attribute: Shape and datatype, the saving location."
      ],
      "metadata": {
        "id": "HtrI5g5VrlP1"
      }
    },
    {
      "cell_type": "code",
      "source": [
        "tensor = torch.rand(3,4)\n",
        "# attribute\n",
        "print(f\"shape of tensor: {tensor.shape}\")\n",
        "print(f\"datatype of tensor: {tensor.dtype}\")\n",
        "print(f\"device of tensor: {tensor.device}\")\n",
        "\n",
        "#"
      ],
      "metadata": {
        "colab": {
          "base_uri": "https://localhost:8080/"
        },
        "id": "VjuICk8WrsRE",
        "outputId": "211bbee4-e190-49f3-83f6-59f244669978"
      },
      "execution_count": 4,
      "outputs": [
        {
          "output_type": "stream",
          "name": "stdout",
          "text": [
            "shape of tensor: torch.Size([3, 4])\n",
            "datatype of tensor: torch.float32\n",
            "device of tensor: cpu\n"
          ]
        }
      ]
    }
  ]
}