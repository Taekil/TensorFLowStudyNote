{
  "nbformat": 4,
  "nbformat_minor": 0,
  "metadata": {
    "colab": {
      "provenance": [],
      "gpuType": "T4",
      "authorship_tag": "ABX9TyMGLDHMmVucsnWDJAlWpNoc",
      "include_colab_link": true
    },
    "kernelspec": {
      "name": "python3",
      "display_name": "Python 3"
    },
    "language_info": {
      "name": "python"
    }
  },
  "cells": [
    {
      "cell_type": "markdown",
      "metadata": {
        "id": "view-in-github",
        "colab_type": "text"
      },
      "source": [
        "<a href=\"https://colab.research.google.com/github/Taekil/TensorFLowStudyNote/blob/master/pytorch_tutorial.ipynb\" target=\"_parent\"><img src=\"https://colab.research.google.com/assets/colab-badge.svg\" alt=\"Open In Colab\"/></a>"
      ]
    },
    {
      "cell_type": "markdown",
      "source": [
        "https://tutorials.pytorch.kr/beginner/basics/tensorqs_tutorial.html\n",
        "\n",
        "tensors provide a unified wya to train neural networks for more complex data sets."
      ],
      "metadata": {
        "id": "cEqiVF4RvIav"
      }
    },
    {
      "cell_type": "code",
      "source": [
        "import torch\n",
        "import numpy as np\n",
        "\n",
        "data = [[1, 2], [3, 4]]\n",
        "x_data = torch.tensor(data)\n",
        "# tensor generated\n",
        "np_array = np.array(data)\n",
        "x_np = torch.from_numpy(np_array)\n",
        "x_ones = torch.ones_like(x_data) # keep shape and datatype\n",
        "print(f\"Ones Tensor: \\n {x_ones} \\n\")\n",
        "x_rand = torch.rand_like(x_data, dtype=torch.float) # override\n",
        "print(f\"Ones Tensor: \\n {x_rand} \\n\")"
      ],
      "metadata": {
        "colab": {
          "base_uri": "https://localhost:8080/"
        },
        "id": "fnwZZdwcvbSi",
        "outputId": "03226698-5d79-4dcb-ffe5-9fa730dcd6eb"
      },
      "execution_count": null,
      "outputs": [
        {
          "output_type": "stream",
          "name": "stdout",
          "text": [
            "Ones Tensor: \n",
            " tensor([[1, 1],\n",
            "        [1, 1]]) \n",
            "\n",
            "Ones Tensor: \n",
            " tensor([[0.1046, 0.2824],\n",
            "        [0.7030, 0.2658]]) \n",
            "\n"
          ]
        }
      ]
    },
    {
      "cell_type": "code",
      "source": [
        "# random or constant\n",
        "# shape is the tuple to express dimension\n",
        "shape = (2, 3, )\n",
        "rand_tensor = torch.rand(shape)\n",
        "ones_tensor = torch.ones(shape)\n",
        "zeros_tensor = torch.zeros(shape)\n",
        "\n",
        "print(f\"Random: \\n {rand_tensor}\\n\")\n",
        "print(f\"Ones: \\n {ones_tensor}\\n\")\n",
        "print(f\"Zeros: \\n {zeros_tensor}\\n\")"
      ],
      "metadata": {
        "id": "_VcPRwnsxj-f",
        "colab": {
          "base_uri": "https://localhost:8080/"
        },
        "outputId": "448982ff-c9b2-4d0d-be8f-fe32ed2dc055"
      },
      "execution_count": null,
      "outputs": [
        {
          "output_type": "stream",
          "name": "stdout",
          "text": [
            "Random: \n",
            " tensor([[0.6699, 0.4394, 0.6460],\n",
            "        [0.8459, 0.9755, 0.7451]])\n",
            "\n",
            "Ones: \n",
            " tensor([[1., 1., 1.],\n",
            "        [1., 1., 1.]])\n",
            "\n",
            "Zeros: \n",
            " tensor([[0., 0., 0.],\n",
            "        [0., 0., 0.]])\n",
            "\n"
          ]
        }
      ]
    },
    {
      "cell_type": "markdown",
      "source": [
        "tensor's attribute: Shape and datatype, the saving location."
      ],
      "metadata": {
        "id": "HtrI5g5VrlP1"
      }
    },
    {
      "cell_type": "code",
      "source": [
        "tensor = torch.rand(3,4)\n",
        "# attribute\n",
        "print(f\"shape of tensor: {tensor.shape}\")\n",
        "print(f\"datatype of tensor: {tensor.dtype}\")\n",
        "print(f\"device of tensor: {tensor.device}\")\n",
        "\n",
        "# operation-> transposing, indexing, slicing,mathmetical operation, etc.\n",
        "# oeration in GPU\n",
        "# Colab, Edit>Notebook settings\n",
        "# tensor in CPU\n",
        "# similar to Numpy"
      ],
      "metadata": {
        "colab": {
          "base_uri": "https://localhost:8080/"
        },
        "id": "VjuICk8WrsRE",
        "outputId": "211bbee4-e190-49f3-83f6-59f244669978"
      },
      "execution_count": null,
      "outputs": [
        {
          "output_type": "stream",
          "name": "stdout",
          "text": [
            "shape of tensor: torch.Size([3, 4])\n",
            "datatype of tensor: torch.float32\n",
            "device of tensor: cpu\n"
          ]
        }
      ]
    },
    {
      "cell_type": "code",
      "source": [
        "tensor = torch.ones(4, 4)\n",
        "print(f\"first row: {tensor[0]}\")\n",
        "print(f\"first column{tensor[:,0]}\")\n",
        "print(f\"last column{tensor[...,-1]}\")\n",
        "tensor[:,1] = 0\n",
        "print(tensor)\n"
      ],
      "metadata": {
        "colab": {
          "base_uri": "https://localhost:8080/"
        },
        "id": "2AJFT8Yk05gX",
        "outputId": "db88b6cc-dde6-4bf3-9870-1250f846a792"
      },
      "execution_count": null,
      "outputs": [
        {
          "output_type": "stream",
          "name": "stdout",
          "text": [
            "first row: tensor([1., 1., 1., 1.])\n",
            "first columntensor([1., 1., 1., 1.])\n",
            "last columntensor([1., 1., 1., 1.])\n",
            "tensor([[1., 0., 1., 1.],\n",
            "        [1., 0., 1., 1.],\n",
            "        [1., 0., 1., 1.],\n",
            "        [1., 0., 1., 1.]])\n"
          ]
        }
      ]
    },
    {
      "cell_type": "markdown",
      "source": [
        "torch.cat\n",
        "torch.stack"
      ],
      "metadata": {
        "id": "Rn55dwDp4Zb9"
      }
    },
    {
      "cell_type": "code",
      "source": [
        "t1 = torch.cat([tensor, tensor, tensor], dim = 1)\n",
        "print(t1)"
      ],
      "metadata": {
        "colab": {
          "base_uri": "https://localhost:8080/"
        },
        "id": "OOxJ_oR-4fzw",
        "outputId": "dce60752-43aa-4047-8117-4c295c43c8df"
      },
      "execution_count": null,
      "outputs": [
        {
          "output_type": "stream",
          "name": "stdout",
          "text": [
            "tensor([[1., 0., 1., 1., 1., 0., 1., 1., 1., 0., 1., 1.],\n",
            "        [1., 0., 1., 1., 1., 0., 1., 1., 1., 0., 1., 1.],\n",
            "        [1., 0., 1., 1., 1., 0., 1., 1., 1., 0., 1., 1.],\n",
            "        [1., 0., 1., 1., 1., 0., 1., 1., 1., 0., 1., 1.]])\n"
          ]
        }
      ]
    },
    {
      "cell_type": "markdown",
      "source": [
        "dataset and dataloader\n",
        "code for process data samples can get messy and hard to maintain.\n",
        "\n",
        "decoupled from our model training code for better\n",
        "\n",
        "* readability\n",
        "* modularity\n",
        "\n",
        "torch.utils.dadta.DataLoader\n",
        "torch.utils.data.Dataset\n",
        "\n",
        "pre-loaded datasets\n",
        "Dataset: the samples and their corresponding labels"
      ],
      "metadata": {
        "id": "yezj2V3l45oW"
      }
    },
    {
      "cell_type": "markdown",
      "source": [
        "root\n",
        "train\n",
        "download=true\n",
        "transform and target_transform"
      ],
      "metadata": {
        "id": "vazHoNSK8Cit"
      }
    },
    {
      "cell_type": "code",
      "source": [
        "import torch\n",
        "from torch.utils.data import Dataset\n",
        "from torchvision import datasets\n",
        "from torchvision.transforms import ToTensor\n",
        "import matplotlib.pyplot as plt\n",
        "\n",
        "training_data = datasets.FashionMNIST(\n",
        "    root=\"data\",\n",
        "    train=True,\n",
        "    download=True,\n",
        "    transform=ToTensor()\n",
        ")\n",
        "\n",
        "test_data = datasets.FashionMNIST(\n",
        "    root=\"data\",\n",
        "    train=False,\n",
        "    download=True,\n",
        "    transform=ToTensor()\n",
        ")"
      ],
      "metadata": {
        "colab": {
          "base_uri": "https://localhost:8080/"
        },
        "id": "2l7bDZKy8J8X",
        "outputId": "a7294f72-782f-4498-fcd3-3f3622993513"
      },
      "execution_count": 4,
      "outputs": [
        {
          "output_type": "stream",
          "name": "stdout",
          "text": [
            "Downloading http://fashion-mnist.s3-website.eu-central-1.amazonaws.com/train-images-idx3-ubyte.gz\n",
            "Downloading http://fashion-mnist.s3-website.eu-central-1.amazonaws.com/train-images-idx3-ubyte.gz to data/FashionMNIST/raw/train-images-idx3-ubyte.gz\n"
          ]
        },
        {
          "output_type": "stream",
          "name": "stderr",
          "text": [
            "100%|██████████| 26421880/26421880 [00:01<00:00, 17413114.57it/s]\n"
          ]
        },
        {
          "output_type": "stream",
          "name": "stdout",
          "text": [
            "Extracting data/FashionMNIST/raw/train-images-idx3-ubyte.gz to data/FashionMNIST/raw\n",
            "\n",
            "Downloading http://fashion-mnist.s3-website.eu-central-1.amazonaws.com/train-labels-idx1-ubyte.gz\n",
            "Downloading http://fashion-mnist.s3-website.eu-central-1.amazonaws.com/train-labels-idx1-ubyte.gz to data/FashionMNIST/raw/train-labels-idx1-ubyte.gz\n"
          ]
        },
        {
          "output_type": "stream",
          "name": "stderr",
          "text": [
            "100%|██████████| 29515/29515 [00:00<00:00, 303712.12it/s]\n"
          ]
        },
        {
          "output_type": "stream",
          "name": "stdout",
          "text": [
            "Extracting data/FashionMNIST/raw/train-labels-idx1-ubyte.gz to data/FashionMNIST/raw\n",
            "\n",
            "Downloading http://fashion-mnist.s3-website.eu-central-1.amazonaws.com/t10k-images-idx3-ubyte.gz\n",
            "Downloading http://fashion-mnist.s3-website.eu-central-1.amazonaws.com/t10k-images-idx3-ubyte.gz to data/FashionMNIST/raw/t10k-images-idx3-ubyte.gz\n"
          ]
        },
        {
          "output_type": "stream",
          "name": "stderr",
          "text": [
            "100%|██████████| 4422102/4422102 [00:00<00:00, 5472452.24it/s]\n"
          ]
        },
        {
          "output_type": "stream",
          "name": "stdout",
          "text": [
            "Extracting data/FashionMNIST/raw/t10k-images-idx3-ubyte.gz to data/FashionMNIST/raw\n",
            "\n",
            "Downloading http://fashion-mnist.s3-website.eu-central-1.amazonaws.com/t10k-labels-idx1-ubyte.gz\n",
            "Downloading http://fashion-mnist.s3-website.eu-central-1.amazonaws.com/t10k-labels-idx1-ubyte.gz to data/FashionMNIST/raw/t10k-labels-idx1-ubyte.gz\n"
          ]
        },
        {
          "output_type": "stream",
          "name": "stderr",
          "text": [
            "100%|██████████| 5148/5148 [00:00<00:00, 24260985.38it/s]"
          ]
        },
        {
          "output_type": "stream",
          "name": "stdout",
          "text": [
            "Extracting data/FashionMNIST/raw/t10k-labels-idx1-ubyte.gz to data/FashionMNIST/raw\n",
            "\n"
          ]
        },
        {
          "output_type": "stream",
          "name": "stderr",
          "text": [
            "\n"
          ]
        }
      ]
    },
    {
      "cell_type": "markdown",
      "source": [
        "Dataset -> list -> indexing\n",
        "traning_data[index], matplotlib\n"
      ],
      "metadata": {
        "id": "7iikEu3OAGlM"
      }
    },
    {
      "cell_type": "code",
      "source": [
        "labels_map = {\n",
        "    0:\"T-Shirt\",\n",
        "    1:\"Trouser\",\n",
        "    2:\"Pullover\",\n",
        "    3:\"Dress\",\n",
        "    4:\"Coat\",\n",
        "    5:\"Sandal\",\n",
        "    6:\"Shirt\",\n",
        "    7:\"Sneaker\",\n",
        "    8:\"Bag\",\n",
        "    9:\"Ankle Boot\",\n",
        "}\n",
        "\n",
        "figure = plt.figure(figsize=(8, 8))\n",
        "cols, rows = 3, 3\n",
        "\n",
        "for i in range(1, cols* rows + 1):\n",
        "  sample_idx = torch.randint(len(training_data), size=(1,)).item()\n",
        "  img, label = training_data[sample_idx]\n",
        "  figure.add_subplot(rows, cols, i)\n",
        "  plt.title(labels_map[label])\n",
        "  plt.axis(\"off\")\n",
        "  plt.imshow(img.squeeze(), cmap=\"gray\")\n",
        "plt.show()\n"
      ],
      "metadata": {
        "colab": {
          "base_uri": "https://localhost:8080/",
          "height": 675
        },
        "id": "0FRJ1ddKAR6T",
        "outputId": "9c8b09f1-40e3-4921-a069-1f3f693def2c"
      },
      "execution_count": 7,
      "outputs": [
        {
          "output_type": "display_data",
          "data": {
            "text/plain": [
              "<Figure size 800x800 with 9 Axes>"
            ],
            "image/png": "[encoded data removed]"
          },
          "metadata": {}
        }
      ]
    }
  ]
}